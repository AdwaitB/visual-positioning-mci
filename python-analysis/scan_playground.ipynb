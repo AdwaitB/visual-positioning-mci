{
 "cells": [
  {
   "cell_type": "code",
   "execution_count": 1,
   "id": "9bcc6b21",
   "metadata": {},
   "outputs": [],
   "source": [
    "import math\n",
    "\n",
    "import numpy as np\n",
    "import pandas as pd\n",
    "\n",
    "import matplotlib.pyplot as plt\n",
    "import matplotlib.collections as mc\n",
    "\n",
    "from pprint import pprint\n",
    "\n",
    "from plot import *\n",
    "from building import *\n",
    "from config import *\n",
    "from generator import *\n",
    "from db_utils import *\n",
    "from scanner import *\n",
    "from misc_utils import *"
   ]
  },
  {
   "cell_type": "markdown",
   "id": "f78554f7",
   "metadata": {},
   "source": [
    "### Assumptions\n",
    "\n",
    "1. Every edge for every building is divided into subparts if the length is very large. For example, a stadium's edge even though it is straight, will be divided into multiple edges to make sure the edge is detected in the scanner. This is required as the scanner's range is restricted. Doing this has no performance hit as the bottleneck is the number of features in edge, so the splitting has no performance hit on ***this*** algorithm.\n",
    "2. Buildings are convex. If not, split the building into convex parts and the overlapping edges with no feature points\n",
    "\n",
    "### Algorithm\n",
    "\n",
    "- Tag all nodes, edges based on FOV\n",
    "- Find all the buildings that are there in the given FOV\n",
    "    - A building is visible if either the edge is tagged in FOV or the vertex is tagged in FOV\n",
    "- For all buildings get the frontier set of edges based on the ORIGIN\n",
    "- Valid edges are current all edges that are tagged in FOV as well as in the frontier.\n",
    "- Remove edges from this set that are overshadowed\n",
    "- Calculate the effective scope of each building\n",
    "- For every building scope, remove edges that are overshadowed by this scope"
   ]
  },
  {
   "cell_type": "code",
   "execution_count": 2,
   "id": "3a38b783",
   "metadata": {
    "scrolled": false
   },
   "outputs": [
    {
     "name": "stdout",
     "output_type": "stream",
     "text": [
      "points\n",
      "      x     y      color\n",
      "0  1.37  5.82  lightblue\n",
      "1  8.67  8.21  lightblue\n",
      "2  7.82  0.64  lightblue\n",
      "3  2.61  1.20  lightblue\n",
      "4  5.07  7.79  lightblue\n",
      "5  4.60  4.83  lightblue\n",
      "6  6.67  3.88  lightblue\n",
      "7  8.07  2.14  lightblue\n",
      "8  0.96  4.99  lightblue\n",
      "9  0.29  9.14  lightblue\n",
      "\n",
      "edges\n",
      "   start  end      color\n",
      "0      0    9  lightblue\n",
      "1      0    8  lightblue\n",
      "2      4    5  lightblue\n",
      "3      4    1  lightblue\n",
      "4      6    5  lightblue\n",
      "5      6    1  lightblue\n",
      "6      2    3  lightblue\n",
      "7      2    7  lightblue\n",
      "\n",
      "edges_mat\n",
      "[[-1, -1, -1, -1, -1, -1, -1, -1, 1, 0],\n",
      " [-1, -1, -1, -1, 3, -1, 5, -1, -1, -1],\n",
      " [-1, -1, -1, 6, -1, -1, -1, 7, -1, -1],\n",
      " [-1, -1, 6, -1, -1, -1, -1, -1, -1, -1],\n",
      " [-1, 3, -1, -1, -1, 2, -1, -1, -1, -1],\n",
      " [-1, -1, -1, -1, 2, -1, 4, -1, -1, -1],\n",
      " [-1, 5, -1, -1, -1, 4, -1, -1, -1, -1],\n",
      " [-1, -1, 7, -1, -1, -1, -1, -1, -1, -1],\n",
      " [1, -1, -1, -1, -1, -1, -1, -1, -1, -1],\n",
      " [0, -1, -1, -1, -1, -1, -1, -1, -1, -1]]\n",
      "\n",
      "edges_list\n",
      "[[[9, 0], [8, 1]],\n",
      " [[4, 3], [6, 5]],\n",
      " [[3, 6], [7, 7]],\n",
      " [[2, 6]],\n",
      " [[5, 2], [1, 3]],\n",
      " [[4, 2], [6, 4]],\n",
      " [[5, 4], [1, 5]],\n",
      " [[2, 7]],\n",
      " [[0, 1]],\n",
      " [[0, 0]]]\n",
      "\n"
     ]
    }
   ],
   "source": [
    "if ORIGINAL_DATA:\n",
    "    points = read_points()\n",
    "    edges = read_edges(points)\n",
    "else:\n",
    "    points = generate_data(NPOINTS)\n",
    "    edges = get_edges()\n",
    "\n",
    "print_util(points, \"points\")\n",
    "print_util(edges, \"edges\")\n",
    "\n",
    "edges_mat = get_adj_mat(points, edges)\n",
    "print_util(edges_mat, \"edges_mat\")\n",
    "\n",
    "edges_list = get_adj_list(points, edges)\n",
    "print_util(edges_list, \"edges_list\")"
   ]
  },
  {
   "cell_type": "code",
   "execution_count": 3,
   "id": "93bf21fe",
   "metadata": {},
   "outputs": [
    {
     "name": "stdout",
     "output_type": "stream",
     "text": [
      "base_angle  45.00000000000001\n",
      "viewpoint  [8.596194077712559, 8.596194077712559]\n",
      "viewpoint_begin  [5.128713154835047, 10.401250394579352]\n",
      "viewpoint_end  [10.401250394579352, 5.128713154835047]\n",
      "axis_xp  [8.596194077712559, -0.5961940777125587]\n",
      "axis_xn  [-0.5961940777125587, 8.596194077712559]\n"
     ]
    }
   ],
   "source": [
    "base_angle = get_angle(DIRECTION)\n",
    "\n",
    "viewpoint = add_vector_to_point(ORIGIN, DIRECTION, RADIUS)\n",
    "\n",
    "viewpoint_begin = rotate_point(viewpoint, ORIGIN, FOV/2)\n",
    "viewpoint_end = rotate_point(viewpoint, ORIGIN, -FOV/2)\n",
    "\n",
    "axis_xp = rotate_point(viewpoint, ORIGIN, -90)\n",
    "axis_xn = rotate_point(viewpoint, ORIGIN, 90)\n",
    "\n",
    "print(\"base_angle \", base_angle)\n",
    "print(\"viewpoint \", viewpoint)\n",
    "print(\"viewpoint_begin \", viewpoint_begin)\n",
    "print(\"viewpoint_end \", viewpoint_end)\n",
    "print(\"axis_xp \", axis_xp)\n",
    "print(\"axis_xn \", axis_xn)"
   ]
  },
  {
   "cell_type": "code",
   "execution_count": 4,
   "id": "bc4b04f7",
   "metadata": {},
   "outputs": [
    {
     "name": "stdout",
     "output_type": "stream",
     "text": [
      "points\n",
      "      x     y      color  normalized_angle\n",
      "0  1.37  5.82  lightblue        190.316176\n",
      "1  8.67  8.21      black         87.034626\n",
      "2  7.82  0.64    crimson          3.665750\n",
      "3  2.61  1.20  lightblue        288.598885\n",
      "4  5.07  7.79      black        119.234465\n",
      "5  4.60  4.83      black         99.137151\n",
      "6  6.67  3.88    crimson         42.426641\n",
      "7  8.07  2.14    crimson         20.439483\n",
      "8  0.96  4.99  lightblue        206.961752\n",
      "9  0.29  9.14    fuchsia        170.821370\n",
      "\n"
     ]
    }
   ],
   "source": [
    "tag_points_fov(points)\n",
    "print_util(points, \"points\")"
   ]
  },
  {
   "cell_type": "code",
   "execution_count": 5,
   "id": "716604f6",
   "metadata": {},
   "outputs": [
    {
     "name": "stdout",
     "output_type": "stream",
     "text": [
      "   start  end      color\n",
      "0      0    9  lightblue\n",
      "1      0    8  lightblue\n",
      "2      4    5      black\n",
      "3      4    1      black\n",
      "4      6    5      black\n",
      "5      6    1      black\n",
      "6      2    3  lightblue\n",
      "7      2    7  lightblue\n",
      "\n"
     ]
    }
   ],
   "source": [
    "tag_edges_fov(points, edges)\n",
    "print_util(edges)"
   ]
  },
  {
   "cell_type": "code",
   "execution_count": 6,
   "id": "a5ba90f3",
   "metadata": {},
   "outputs": [
    {
     "name": "stdout",
     "output_type": "stream",
     "text": [
      "id_to_build_map\n",
      "{0: 2, 1: 0, 2: 1, 3: 1, 4: 0, 5: 0, 6: 0, 7: 1, 8: 2, 9: 2}\n",
      "\n",
      "buildings\n",
      "{0: [1, 4, 6, 5], 1: [2, 3, 7], 2: [9, 0, 8]}\n",
      "\n"
     ]
    }
   ],
   "source": [
    "id_to_build_map, buildings = get_building_set(points, edges_list)\n",
    "print_util(id_to_build_map, \"id_to_build_map\")\n",
    "print_util(buildings, \"buildings\")"
   ]
  },
  {
   "cell_type": "code",
   "execution_count": 7,
   "id": "efe33942",
   "metadata": {
    "scrolled": false
   },
   "outputs": [
    {
     "name": "stdout",
     "output_type": "stream",
     "text": [
      "[[1.0241581909060726, 99.13715101413874, 5, 4.6, 4.83],\n",
      " [2.6726952688250862, 42.426640536823186, 6, 6.67, 3.88],\n",
      " [3.9381467722775394, 119.23446469265346, 4, 5.07, 7.79],\n",
      " [6.287527335924672, 87.03462594481084, 1, 8.67, 8.21]]\n",
      "\n",
      "[[3.1260358283295475, 288.5988847976303, 3, 2.61, 1.2],\n",
      " [4.4748742999105575, 20.439482855027904, 7, 8.07, 2.14],\n",
      " [5.087435503276676, 3.6657502926303778, 2, 7.82, 0.64]]\n",
      "\n",
      "[[3.1971393463532363, 206.96175152102745, 8, 0.96, 4.99],\n",
      " [3.198327688026979, 190.31617646258968, 0, 1.37, 5.82],\n",
      " [6.339061444725079, 170.82136996231506, 9, 0.29, 9.14]]\n",
      "\n",
      "spans\n",
      "{0: [6, 4], 1: [2, 3], 2: [9, 8]}\n",
      "\n"
     ]
    }
   ],
   "source": [
    "spans = get_spans(points, edges, edges_list, buildings)\n",
    "print_util(spans, \"spans\")"
   ]
  },
  {
   "cell_type": "code",
   "execution_count": 8,
   "id": "19fc32c6",
   "metadata": {},
   "outputs": [
    {
     "name": "stdout",
     "output_type": "stream",
     "text": [
      "edges after overshadow filter\n",
      "   start  end      color\n",
      "0      0    9  lightblue\n",
      "1      0    8  lightblue\n",
      "2      4    5      black\n",
      "3      4    1  lightblue\n",
      "4      6    5      black\n",
      "5      6    1  lightblue\n",
      "6      2    3  lightblue\n",
      "7      2    7  lightblue\n",
      "\n"
     ]
    }
   ],
   "source": [
    "remove_overshadowing_edges(points, edges)\n",
    "print_util(edges, \"edges after overshadow filter\")"
   ]
  },
  {
   "cell_type": "code",
   "execution_count": 9,
   "id": "fdd53132",
   "metadata": {},
   "outputs": [
    {
     "name": "stdout",
     "output_type": "stream",
     "text": [
      "edges after spanned overshadow filter\n",
      "   start  end      color\n",
      "0      0    9  lightblue\n",
      "1      0    8  lightblue\n",
      "2      4    5      black\n",
      "3      4    1  lightblue\n",
      "4      6    5      black\n",
      "5      6    1  lightblue\n",
      "6      2    3  lightblue\n",
      "7      2    7  lightblue\n",
      "\n"
     ]
    }
   ],
   "source": [
    "remove_overshadowing_edges_spans(points, edges, spans)\n",
    "print_util(edges, \"edges after spanned overshadow filter\")"
   ]
  },
  {
   "cell_type": "code",
   "execution_count": 10,
   "id": "b534ebf4",
   "metadata": {},
   "outputs": [
    {
     "name": "stdout",
     "output_type": "stream",
     "text": [
      "      x     y      color  normalized_angle\n",
      "0  1.37  5.82  lightblue        190.316176\n",
      "1  8.67  8.21      black         87.034626\n",
      "2  7.82  0.64    crimson          3.665750\n",
      "3  2.61  1.20  lightblue        288.598885\n",
      "4  5.07  7.79      black        119.234465\n",
      "5  4.60  4.83      black         99.137151\n",
      "6  6.67  3.88    crimson         42.426641\n",
      "7  8.07  2.14    crimson         20.439483\n",
      "8  0.96  4.99  lightblue        206.961752\n",
      "9  0.29  9.14    fuchsia        170.821370\n",
      "\n",
      "   start  end      color\n",
      "0      0    9  lightblue\n",
      "1      0    8  lightblue\n",
      "2      4    5      black\n",
      "3      4    1  lightblue\n",
      "4      6    5      black\n",
      "5      6    1  lightblue\n",
      "6      2    3  lightblue\n",
      "7      2    7  lightblue\n",
      "\n"
     ]
    },
    {
     "data": {
      "image/png": "[encoded data removed]",
      "text/plain": [
       "<Figure size 504x504 with 1 Axes>"
      ]
     },
     "metadata": {
      "needs_background": "light"
     },
     "output_type": "display_data"
    }
   ],
   "source": [
    "plot_situation(points, edges, viewpoint, viewpoint_begin, viewpoint_end, axis_xp, axis_xn)"
   ]
  },
  {
   "cell_type": "code",
   "execution_count": 11,
   "id": "2974c333",
   "metadata": {},
   "outputs": [
    {
     "data": {
      "text/html": [
       "<div>\n",
       "<style scoped>\n",
       "    .dataframe tbody tr th:only-of-type {\n",
       "        vertical-align: middle;\n",
       "    }\n",
       "\n",
       "    .dataframe tbody tr th {\n",
       "        vertical-align: top;\n",
       "    }\n",
       "\n",
       "    .dataframe thead th {\n",
       "        text-align: right;\n",
       "    }\n",
       "</style>\n",
       "<table border=\"1\" class=\"dataframe\">\n",
       "  <thead>\n",
       "    <tr style=\"text-align: right;\">\n",
       "      <th></th>\n",
       "      <th>x</th>\n",
       "      <th>y</th>\n",
       "      <th>color</th>\n",
       "      <th>normalized_angle</th>\n",
       "    </tr>\n",
       "  </thead>\n",
       "  <tbody>\n",
       "    <tr>\n",
       "      <th>0</th>\n",
       "      <td>1.37</td>\n",
       "      <td>5.82</td>\n",
       "      <td>lightblue</td>\n",
       "      <td>190.316176</td>\n",
       "    </tr>\n",
       "    <tr>\n",
       "      <th>1</th>\n",
       "      <td>8.67</td>\n",
       "      <td>8.21</td>\n",
       "      <td>black</td>\n",
       "      <td>87.034626</td>\n",
       "    </tr>\n",
       "    <tr>\n",
       "      <th>2</th>\n",
       "      <td>7.82</td>\n",
       "      <td>0.64</td>\n",
       "      <td>crimson</td>\n",
       "      <td>3.665750</td>\n",
       "    </tr>\n",
       "    <tr>\n",
       "      <th>3</th>\n",
       "      <td>2.61</td>\n",
       "      <td>1.20</td>\n",
       "      <td>lightblue</td>\n",
       "      <td>288.598885</td>\n",
       "    </tr>\n",
       "    <tr>\n",
       "      <th>4</th>\n",
       "      <td>5.07</td>\n",
       "      <td>7.79</td>\n",
       "      <td>black</td>\n",
       "      <td>119.234465</td>\n",
       "    </tr>\n",
       "    <tr>\n",
       "      <th>5</th>\n",
       "      <td>4.60</td>\n",
       "      <td>4.83</td>\n",
       "      <td>black</td>\n",
       "      <td>99.137151</td>\n",
       "    </tr>\n",
       "    <tr>\n",
       "      <th>6</th>\n",
       "      <td>6.67</td>\n",
       "      <td>3.88</td>\n",
       "      <td>crimson</td>\n",
       "      <td>42.426641</td>\n",
       "    </tr>\n",
       "    <tr>\n",
       "      <th>7</th>\n",
       "      <td>8.07</td>\n",
       "      <td>2.14</td>\n",
       "      <td>crimson</td>\n",
       "      <td>20.439483</td>\n",
       "    </tr>\n",
       "    <tr>\n",
       "      <th>8</th>\n",
       "      <td>0.96</td>\n",
       "      <td>4.99</td>\n",
       "      <td>lightblue</td>\n",
       "      <td>206.961752</td>\n",
       "    </tr>\n",
       "    <tr>\n",
       "      <th>9</th>\n",
       "      <td>0.29</td>\n",
       "      <td>9.14</td>\n",
       "      <td>fuchsia</td>\n",
       "      <td>170.821370</td>\n",
       "    </tr>\n",
       "  </tbody>\n",
       "</table>\n",
       "</div>"
      ],
      "text/plain": [
       "      x     y      color  normalized_angle\n",
       "0  1.37  5.82  lightblue        190.316176\n",
       "1  8.67  8.21      black         87.034626\n",
       "2  7.82  0.64    crimson          3.665750\n",
       "3  2.61  1.20  lightblue        288.598885\n",
       "4  5.07  7.79      black        119.234465\n",
       "5  4.60  4.83      black         99.137151\n",
       "6  6.67  3.88    crimson         42.426641\n",
       "7  8.07  2.14    crimson         20.439483\n",
       "8  0.96  4.99  lightblue        206.961752\n",
       "9  0.29  9.14    fuchsia        170.821370"
      ]
     },
     "execution_count": 11,
     "metadata": {},
     "output_type": "execute_result"
    }
   ],
   "source": [
    "points"
   ]
  },
  {
   "cell_type": "code",
   "execution_count": 12,
   "id": "abe3cd40",
   "metadata": {},
   "outputs": [
    {
     "data": {
      "text/html": [
       "<div>\n",
       "<style scoped>\n",
       "    .dataframe tbody tr th:only-of-type {\n",
       "        vertical-align: middle;\n",
       "    }\n",
       "\n",
       "    .dataframe tbody tr th {\n",
       "        vertical-align: top;\n",
       "    }\n",
       "\n",
       "    .dataframe thead th {\n",
       "        text-align: right;\n",
       "    }\n",
       "</style>\n",
       "<table border=\"1\" class=\"dataframe\">\n",
       "  <thead>\n",
       "    <tr style=\"text-align: right;\">\n",
       "      <th></th>\n",
       "      <th>start</th>\n",
       "      <th>end</th>\n",
       "      <th>color</th>\n",
       "    </tr>\n",
       "  </thead>\n",
       "  <tbody>\n",
       "    <tr>\n",
       "      <th>0</th>\n",
       "      <td>0</td>\n",
       "      <td>9</td>\n",
       "      <td>lightblue</td>\n",
       "    </tr>\n",
       "    <tr>\n",
       "      <th>1</th>\n",
       "      <td>0</td>\n",
       "      <td>8</td>\n",
       "      <td>lightblue</td>\n",
       "    </tr>\n",
       "    <tr>\n",
       "      <th>2</th>\n",
       "      <td>4</td>\n",
       "      <td>5</td>\n",
       "      <td>black</td>\n",
       "    </tr>\n",
       "    <tr>\n",
       "      <th>3</th>\n",
       "      <td>4</td>\n",
       "      <td>1</td>\n",
       "      <td>lightblue</td>\n",
       "    </tr>\n",
       "    <tr>\n",
       "      <th>4</th>\n",
       "      <td>6</td>\n",
       "      <td>5</td>\n",
       "      <td>black</td>\n",
       "    </tr>\n",
       "    <tr>\n",
       "      <th>5</th>\n",
       "      <td>6</td>\n",
       "      <td>1</td>\n",
       "      <td>lightblue</td>\n",
       "    </tr>\n",
       "    <tr>\n",
       "      <th>6</th>\n",
       "      <td>2</td>\n",
       "      <td>3</td>\n",
       "      <td>lightblue</td>\n",
       "    </tr>\n",
       "    <tr>\n",
       "      <th>7</th>\n",
       "      <td>2</td>\n",
       "      <td>7</td>\n",
       "      <td>lightblue</td>\n",
       "    </tr>\n",
       "  </tbody>\n",
       "</table>\n",
       "</div>"
      ],
      "text/plain": [
       "   start  end      color\n",
       "0      0    9  lightblue\n",
       "1      0    8  lightblue\n",
       "2      4    5      black\n",
       "3      4    1  lightblue\n",
       "4      6    5      black\n",
       "5      6    1  lightblue\n",
       "6      2    3  lightblue\n",
       "7      2    7  lightblue"
      ]
     },
     "execution_count": 12,
     "metadata": {},
     "output_type": "execute_result"
    }
   ],
   "source": [
    "edges"
   ]
  },
  {
   "cell_type": "code",
   "execution_count": null,
   "id": "b4e187e7",
   "metadata": {},
   "outputs": [],
   "source": []
  }
 ],
 "metadata": {
  "kernelspec": {
   "display_name": "Python 3 (ipykernel)",
   "language": "python",
   "name": "python3"
  },
  "language_info": {
   "codemirror_mode": {
    "name": "ipython",
    "version": 3
   },
   "file_extension": ".py",
   "mimetype": "text/x-python",
   "name": "python",
   "nbconvert_exporter": "python",
   "pygments_lexer": "ipython3",
   "version": "3.10.0"
  }
 },
 "nbformat": 4,
 "nbformat_minor": 5
}
