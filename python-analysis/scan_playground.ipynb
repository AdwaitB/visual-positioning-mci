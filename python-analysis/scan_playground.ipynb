{
 "cells": [
  {
   "cell_type": "code",
   "execution_count": 1,
   "id": "9bcc6b21",
   "metadata": {},
   "outputs": [],
   "source": [
    "import math\n",
    "\n",
    "import random as rd\n",
    "import numpy as np\n",
    "import pandas as pd\n",
    "\n",
    "import matplotlib.pyplot as plt\n",
    "import matplotlib.collections as mc"
   ]
  },
  {
   "cell_type": "code",
   "execution_count": 2,
   "id": "6ce1b4ac",
   "metadata": {},
   "outputs": [],
   "source": [
    "SEED = 1\n",
    "rd.seed(SEED)"
   ]
  },
  {
   "cell_type": "code",
   "execution_count": 3,
   "id": "3efb1798",
   "metadata": {},
   "outputs": [],
   "source": [
    "def generate_data(count):\n",
    "    x = []\n",
    "    y = []\n",
    "\n",
    "    for i in range(0, count):\n",
    "        x.append(rd.randrange(1000)/100.0)\n",
    "        y.append(rd.randrange(1000)/100.0)\n",
    "\n",
    "    return pd.DataFrame({'x': x, 'y': y})"
   ]
  },
  {
   "cell_type": "code",
   "execution_count": 4,
   "id": "cdc5bd86",
   "metadata": {},
   "outputs": [
    {
     "data": {
      "text/html": [
       "<div>\n",
       "<style scoped>\n",
       "    .dataframe tbody tr th:only-of-type {\n",
       "        vertical-align: middle;\n",
       "    }\n",
       "\n",
       "    .dataframe tbody tr th {\n",
       "        vertical-align: top;\n",
       "    }\n",
       "\n",
       "    .dataframe thead th {\n",
       "        text-align: right;\n",
       "    }\n",
       "</style>\n",
       "<table border=\"1\" class=\"dataframe\">\n",
       "  <thead>\n",
       "    <tr style=\"text-align: right;\">\n",
       "      <th></th>\n",
       "      <th>x</th>\n",
       "      <th>y</th>\n",
       "    </tr>\n",
       "  </thead>\n",
       "  <tbody>\n",
       "    <tr>\n",
       "      <th>0</th>\n",
       "      <td>1.37</td>\n",
       "      <td>5.82</td>\n",
       "    </tr>\n",
       "    <tr>\n",
       "      <th>1</th>\n",
       "      <td>8.67</td>\n",
       "      <td>8.21</td>\n",
       "    </tr>\n",
       "    <tr>\n",
       "      <th>2</th>\n",
       "      <td>7.82</td>\n",
       "      <td>0.64</td>\n",
       "    </tr>\n",
       "    <tr>\n",
       "      <th>3</th>\n",
       "      <td>2.61</td>\n",
       "      <td>1.20</td>\n",
       "    </tr>\n",
       "    <tr>\n",
       "      <th>4</th>\n",
       "      <td>5.07</td>\n",
       "      <td>7.79</td>\n",
       "    </tr>\n",
       "    <tr>\n",
       "      <th>5</th>\n",
       "      <td>4.60</td>\n",
       "      <td>4.83</td>\n",
       "    </tr>\n",
       "    <tr>\n",
       "      <th>6</th>\n",
       "      <td>6.67</td>\n",
       "      <td>3.88</td>\n",
       "    </tr>\n",
       "    <tr>\n",
       "      <th>7</th>\n",
       "      <td>8.07</td>\n",
       "      <td>2.14</td>\n",
       "    </tr>\n",
       "    <tr>\n",
       "      <th>8</th>\n",
       "      <td>0.96</td>\n",
       "      <td>4.99</td>\n",
       "    </tr>\n",
       "    <tr>\n",
       "      <th>9</th>\n",
       "      <td>0.29</td>\n",
       "      <td>9.14</td>\n",
       "    </tr>\n",
       "  </tbody>\n",
       "</table>\n",
       "</div>"
      ],
      "text/plain": [
       "      x     y\n",
       "0  1.37  5.82\n",
       "1  8.67  8.21\n",
       "2  7.82  0.64\n",
       "3  2.61  1.20\n",
       "4  5.07  7.79\n",
       "5  4.60  4.83\n",
       "6  6.67  3.88\n",
       "7  8.07  2.14\n",
       "8  0.96  4.99\n",
       "9  0.29  9.14"
      ]
     },
     "execution_count": 4,
     "metadata": {},
     "output_type": "execute_result"
    },
    {
     "data": {
      "image/png": "[encoded data removed]",
      "text/plain": [
       "<Figure size 432x288 with 1 Axes>"
      ]
     },
     "metadata": {
      "needs_background": "light"
     },
     "output_type": "display_data"
    }
   ],
   "source": [
    "npoints = 10\n",
    "\n",
    "points = generate_data(npoints)\n",
    "plt.scatter(points['x'], points['y'], c='r')\n",
    "plt.grid(True)\n",
    "points"
   ]
  },
  {
   "cell_type": "code",
   "execution_count": 5,
   "id": "917dae7a",
   "metadata": {},
   "outputs": [],
   "source": [
    "points.to_csv(\"points.csv\")"
   ]
  },
  {
   "cell_type": "code",
   "execution_count": 6,
   "id": "275fc33b",
   "metadata": {},
   "outputs": [
    {
     "data": {
      "text/html": [
       "<div>\n",
       "<style scoped>\n",
       "    .dataframe tbody tr th:only-of-type {\n",
       "        vertical-align: middle;\n",
       "    }\n",
       "\n",
       "    .dataframe tbody tr th {\n",
       "        vertical-align: top;\n",
       "    }\n",
       "\n",
       "    .dataframe thead th {\n",
       "        text-align: right;\n",
       "    }\n",
       "</style>\n",
       "<table border=\"1\" class=\"dataframe\">\n",
       "  <thead>\n",
       "    <tr style=\"text-align: right;\">\n",
       "      <th></th>\n",
       "      <th>x</th>\n",
       "      <th>y</th>\n",
       "    </tr>\n",
       "  </thead>\n",
       "  <tbody>\n",
       "    <tr>\n",
       "      <th>0</th>\n",
       "      <td>1.37</td>\n",
       "      <td>5.82</td>\n",
       "    </tr>\n",
       "    <tr>\n",
       "      <th>1</th>\n",
       "      <td>8.67</td>\n",
       "      <td>8.21</td>\n",
       "    </tr>\n",
       "    <tr>\n",
       "      <th>2</th>\n",
       "      <td>7.82</td>\n",
       "      <td>0.64</td>\n",
       "    </tr>\n",
       "    <tr>\n",
       "      <th>3</th>\n",
       "      <td>2.61</td>\n",
       "      <td>1.20</td>\n",
       "    </tr>\n",
       "    <tr>\n",
       "      <th>4</th>\n",
       "      <td>5.07</td>\n",
       "      <td>7.79</td>\n",
       "    </tr>\n",
       "    <tr>\n",
       "      <th>5</th>\n",
       "      <td>4.60</td>\n",
       "      <td>4.83</td>\n",
       "    </tr>\n",
       "    <tr>\n",
       "      <th>6</th>\n",
       "      <td>6.67</td>\n",
       "      <td>3.88</td>\n",
       "    </tr>\n",
       "    <tr>\n",
       "      <th>7</th>\n",
       "      <td>8.07</td>\n",
       "      <td>2.14</td>\n",
       "    </tr>\n",
       "    <tr>\n",
       "      <th>8</th>\n",
       "      <td>0.96</td>\n",
       "      <td>4.99</td>\n",
       "    </tr>\n",
       "    <tr>\n",
       "      <th>9</th>\n",
       "      <td>0.29</td>\n",
       "      <td>9.14</td>\n",
       "    </tr>\n",
       "  </tbody>\n",
       "</table>\n",
       "</div>"
      ],
      "text/plain": [
       "      x     y\n",
       "0  1.37  5.82\n",
       "1  8.67  8.21\n",
       "2  7.82  0.64\n",
       "3  2.61  1.20\n",
       "4  5.07  7.79\n",
       "5  4.60  4.83\n",
       "6  6.67  3.88\n",
       "7  8.07  2.14\n",
       "8  0.96  4.99\n",
       "9  0.29  9.14"
      ]
     },
     "execution_count": 6,
     "metadata": {},
     "output_type": "execute_result"
    }
   ],
   "source": [
    "points = pd.read_csv(\"points.csv\", index_col=0)\n",
    "points"
   ]
  },
  {
   "cell_type": "code",
   "execution_count": 7,
   "id": "2d781f90",
   "metadata": {},
   "outputs": [
    {
     "data": {
      "text/html": [
       "<div>\n",
       "<style scoped>\n",
       "    .dataframe tbody tr th:only-of-type {\n",
       "        vertical-align: middle;\n",
       "    }\n",
       "\n",
       "    .dataframe tbody tr th {\n",
       "        vertical-align: top;\n",
       "    }\n",
       "\n",
       "    .dataframe thead th {\n",
       "        text-align: right;\n",
       "    }\n",
       "</style>\n",
       "<table border=\"1\" class=\"dataframe\">\n",
       "  <thead>\n",
       "    <tr style=\"text-align: right;\">\n",
       "      <th></th>\n",
       "      <th>start</th>\n",
       "      <th>end</th>\n",
       "    </tr>\n",
       "  </thead>\n",
       "  <tbody>\n",
       "    <tr>\n",
       "      <th>0</th>\n",
       "      <td>0</td>\n",
       "      <td>9</td>\n",
       "    </tr>\n",
       "    <tr>\n",
       "      <th>1</th>\n",
       "      <td>0</td>\n",
       "      <td>8</td>\n",
       "    </tr>\n",
       "    <tr>\n",
       "      <th>2</th>\n",
       "      <td>4</td>\n",
       "      <td>5</td>\n",
       "    </tr>\n",
       "    <tr>\n",
       "      <th>3</th>\n",
       "      <td>4</td>\n",
       "      <td>1</td>\n",
       "    </tr>\n",
       "    <tr>\n",
       "      <th>4</th>\n",
       "      <td>6</td>\n",
       "      <td>5</td>\n",
       "    </tr>\n",
       "    <tr>\n",
       "      <th>5</th>\n",
       "      <td>6</td>\n",
       "      <td>1</td>\n",
       "    </tr>\n",
       "    <tr>\n",
       "      <th>6</th>\n",
       "      <td>2</td>\n",
       "      <td>3</td>\n",
       "    </tr>\n",
       "    <tr>\n",
       "      <th>7</th>\n",
       "      <td>2</td>\n",
       "      <td>7</td>\n",
       "    </tr>\n",
       "  </tbody>\n",
       "</table>\n",
       "</div>"
      ],
      "text/plain": [
       "   start  end\n",
       "0      0    9\n",
       "1      0    8\n",
       "2      4    5\n",
       "3      4    1\n",
       "4      6    5\n",
       "5      6    1\n",
       "6      2    3\n",
       "7      2    7"
      ]
     },
     "execution_count": 7,
     "metadata": {},
     "output_type": "execute_result"
    }
   ],
   "source": [
    "def get_edge_ids():\n",
    "    if SEED == 1:\n",
    "        return pd.DataFrame({\n",
    "            'start':[0, 0, 4, 4, 6, 6, 2, 2],\n",
    "            'end'  :[9, 8, 5, 1, 5, 1, 3, 7]\n",
    "        })\n",
    "\n",
    "def get_connectivity_marker():\n",
    "    ret = {}\n",
    "    \n",
    "edgeIds = get_edge_ids()\n",
    "edgeIds"
   ]
  },
  {
   "cell_type": "code",
   "execution_count": 8,
   "id": "981bda0a",
   "metadata": {},
   "outputs": [],
   "source": [
    "def generate_edge_point(i, j):\n",
    "    return [\n",
    "        [points['x'][i], points['x'][j]],\n",
    "        [points['y'][i], points['y'][j]]\n",
    "    ]\n",
    "\n",
    "def generate_edge_point_raw(p1, p2):\n",
    "    return [\n",
    "        [p1[0], p2[0]],\n",
    "        [p1[1], p2[1]]\n",
    "    ]"
   ]
  },
  {
   "cell_type": "code",
   "execution_count": 9,
   "id": "7d716c85",
   "metadata": {},
   "outputs": [],
   "source": [
    "def get_angle(point):\n",
    "    x = point[0]\n",
    "    y = point[1]\n",
    "    size = math.sqrt(x*x + y*y)\n",
    "    angle = math.acos(x/size)*180/math.pi\n",
    "    \n",
    "    if y < 0:\n",
    "        angle = 360 - angle\n",
    "        \n",
    "    return angle"
   ]
  },
  {
   "cell_type": "code",
   "execution_count": 10,
   "id": "e38a2d56",
   "metadata": {},
   "outputs": [],
   "source": [
    "def normalize_vector(point):\n",
    "    x = point[0]\n",
    "    y = point[1]\n",
    "    size = math.sqrt(x*x + y*y)\n",
    "    return [x/size, y/size]"
   ]
  },
  {
   "cell_type": "code",
   "execution_count": 11,
   "id": "eb2bd424",
   "metadata": {},
   "outputs": [],
   "source": [
    "def add_vector_to_point(point, vector, size):\n",
    "    vector = normalize_vector(vector)\n",
    "    return [point[0] + vector[0]*size, point[1] + vector[1]*size]"
   ]
  },
  {
   "cell_type": "code",
   "execution_count": 12,
   "id": "387c8ccb",
   "metadata": {},
   "outputs": [],
   "source": [
    "def rotate_point(base, point, angle):\n",
    "    s = math.sin(angle*math.pi/180)\n",
    "    c = math.cos(angle*math.pi/180)\n",
    "    \n",
    "    x = point[0] - base[0]\n",
    "    y = point[1] - base[1]\n",
    "    \n",
    "    return [\n",
    "        x*c - y*s + base[0],\n",
    "        x*s + y*c + base[1]\n",
    "    ]"
   ]
  },
  {
   "cell_type": "code",
   "execution_count": 13,
   "id": "e5581d96",
   "metadata": {},
   "outputs": [],
   "source": [
    "def check_in_angle_range(start, end, angle):\n",
    "    if (angle >= start) and (angle <= end):\n",
    "        return True\n",
    "    \n",
    "    angle = angle - 360\n",
    "    \n",
    "    if (angle >= start) and (angle <= end):\n",
    "        return True\n",
    "    \n",
    "    return False"
   ]
  },
  {
   "cell_type": "code",
   "execution_count": 14,
   "id": "60a3d622",
   "metadata": {},
   "outputs": [],
   "source": [
    "DATA_POINT_COLOR_DEFAULT = 'lightblue'\n",
    "DATA_POINT_COLOR_SEMI = 'blue'\n",
    "DATA_POINT_COLOR_VIEW = 'black'\n",
    "DATA_EDGE_COLOR = 'lightblue'\n",
    "\n",
    "ORIGIN_COLOR = 'lime'\n",
    "VIEWPOINT_COLOR = 'orange'\n",
    "VIEWPOINT_EDGE_COLOR = 'orange'\n",
    "\n",
    "AXIS_POINT_COLOR = 'lightgreen'\n",
    "AXIS_EDGE_COLOR = 'lightgreen'"
   ]
  },
  {
   "cell_type": "code",
   "execution_count": 15,
   "id": "79b9eb9f",
   "metadata": {},
   "outputs": [],
   "source": [
    "FOV = 70\n",
    "RADIUS = 5\n",
    "\n",
    "ORIGIN = [4, 4.5]\n",
    "DIRECTION = [1, 1]\n",
    "\n",
    "base_angle = get_angle(DIRECTION)\n",
    "\n",
    "viewpoint = add_vector_to_point(ORIGIN, DIRECTION, RADIUS)\n",
    "\n",
    "viewpoint_begin = rotate_point(ORIGIN, viewpoint, FOV/2)\n",
    "viewpoint_end = rotate_point(ORIGIN, viewpoint, -FOV/2)\n",
    "\n",
    "axis_xp = rotate_point(ORIGIN, viewpoint, -90)\n",
    "axis_xn = rotate_point(ORIGIN, viewpoint, 90)"
   ]
  },
  {
   "cell_type": "code",
   "execution_count": 16,
   "id": "9c7f1651",
   "metadata": {},
   "outputs": [],
   "source": [
    "def tag_points():\n",
    "    colors = [DATA_POINT_COLOR_DEFAULT]*len(points)\n",
    "\n",
    "    reference_angle = get_angle(DIRECTION)\n",
    "    semicircle_angle_start = reference_angle - 90\n",
    "    semicircle_angle_end = reference_angle + 90\n",
    "    fov_angle_start = reference_angle - FOV/2\n",
    "    fov_angle_end = reference_angle + FOV/2\n",
    "\n",
    "    for index, row in points.iterrows():\n",
    "        angle = get_angle([row['x'] - ORIGIN[0], row['y'] - ORIGIN[1]])\n",
    "\n",
    "        if(check_in_angle_range(fov_angle_start, fov_angle_end, angle)):\n",
    "            colors[index] = DATA_POINT_COLOR_VIEW\n",
    "        elif check_in_angle_range(semicircle_angle_start, semicircle_angle_end, angle):\n",
    "            colors[index] = DATA_POINT_COLOR_SEMI\n",
    "    \n",
    "    return colors\n",
    "\n",
    "colors = tag_points()"
   ]
  },
  {
   "cell_type": "code",
   "execution_count": 17,
   "id": "65d37906",
   "metadata": {},
   "outputs": [],
   "source": [
    "def plot_point(point, color, text=\"\"):\n",
    "    plt.scatter(point[0], point[1], c=color)\n",
    "    plt.text(point[0] + 0.1, point[1] + 0.1, text)"
   ]
  },
  {
   "cell_type": "code",
   "execution_count": 18,
   "id": "205d01fd",
   "metadata": {},
   "outputs": [],
   "source": [
    "def plot_edge(p1, p2, color):\n",
    "    p = generate_edge_point_raw(p1, p2)\n",
    "    plt.plot(p[0], p[1], linestyle=\"--\", c=color)"
   ]
  },
  {
   "cell_type": "code",
   "execution_count": 19,
   "id": "250c402c",
   "metadata": {},
   "outputs": [
    {
     "data": {
      "image/png": "[encoded data removed]",
      "text/plain": [
       "<Figure size 504x504 with 1 Axes>"
      ]
     },
     "metadata": {
      "needs_background": "light"
     },
     "output_type": "display_data"
    }
   ],
   "source": [
    "def plot_situation():\n",
    "    plt.rcParams[\"figure.autolayout\"] = True\n",
    "\n",
    "    # Plot the building edges\n",
    "    for index, edge_id in edgeIds.iterrows():\n",
    "        plot_edge(points.iloc[edge_id[0]], points.iloc[edge_id[1]], DATA_EDGE_COLOR)\n",
    "\n",
    "    # Plot the points\n",
    "    for index, row in points.iterrows():\n",
    "        plot_point([row['x'], row['y']], colors[index], index)\n",
    "\n",
    "    # Plot the origin\n",
    "    plt.scatter(ORIGIN[0], ORIGIN[1], c=ORIGIN_COLOR)\n",
    "\n",
    "    # Plot the point of view\n",
    "    plot_point(viewpoint, AXIS_POINT_COLOR)\n",
    "    plot_point(viewpoint_begin, VIEWPOINT_COLOR)\n",
    "    plot_point(viewpoint_end, VIEWPOINT_COLOR)\n",
    "    plot_point(axis_xp, AXIS_POINT_COLOR)\n",
    "    plot_point(axis_xn, AXIS_POINT_COLOR)\n",
    "    \n",
    "    plot_edge(ORIGIN, viewpoint, AXIS_EDGE_COLOR)\n",
    "    plot_edge(ORIGIN, viewpoint_begin, VIEWPOINT_EDGE_COLOR)\n",
    "    plot_edge(ORIGIN, viewpoint_end, VIEWPOINT_EDGE_COLOR)\n",
    "    plot_edge(ORIGIN, axis_xp, AXIS_EDGE_COLOR)\n",
    "    plot_edge(ORIGIN, axis_xn, AXIS_EDGE_COLOR)\n",
    "    \n",
    "    angle = np.linspace(0, 2*math.pi, 150) \n",
    "\n",
    "    x = RADIUS*np.cos(angle) + ORIGIN[0]\n",
    "    y = RADIUS*np.sin(angle) + ORIGIN[1]\n",
    "\n",
    "    plt.plot(x, y, linestyle=\"--\", c=AXIS_EDGE_COLOR)\n",
    "    \n",
    "    plt.grid(True)\n",
    "    plt.xlim(-1, 10)\n",
    "    plt.ylim(-1, 10)\n",
    "\n",
    "    fig = plt.gcf()\n",
    "    fig.set_size_inches(7,7)\n",
    "    plt.show()\n",
    "    \n",
    "plot_situation()"
   ]
  },
  {
   "cell_type": "code",
   "execution_count": null,
   "id": "a2ca29d0",
   "metadata": {},
   "outputs": [],
   "source": []
  }
 ],
 "metadata": {
  "kernelspec": {
   "display_name": "Python 3 (ipykernel)",
   "language": "python",
   "name": "python3"
  },
  "language_info": {
   "codemirror_mode": {
    "name": "ipython",
    "version": 3
   },
   "file_extension": ".py",
   "mimetype": "text/x-python",
   "name": "python",
   "nbconvert_exporter": "python",
   "pygments_lexer": "ipython3",
   "version": "3.10.0"
  }
 },
 "nbformat": 4,
 "nbformat_minor": 5
}
