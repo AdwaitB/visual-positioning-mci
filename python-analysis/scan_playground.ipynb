{
 "cells": [
  {
   "cell_type": "code",
   "execution_count": 1,
   "id": "5db974ae",
   "metadata": {},
   "outputs": [],
   "source": [
    "import math\n",
    "\n",
    "import random as rd\n",
    "import numpy as np\n",
    "import pandas as pd\n",
    "\n",
    "import matplotlib.pyplot as plt\n",
    "import matplotlib.collections as mc"
   ]
  },
  {
   "cell_type": "code",
   "execution_count": 2,
   "id": "b544d4d4",
   "metadata": {},
   "outputs": [],
   "source": [
    "SEED = 1\n",
    "rd.seed(SEED)"
   ]
  },
  {
   "cell_type": "code",
   "execution_count": 3,
   "id": "072dc7df",
   "metadata": {},
   "outputs": [],
   "source": [
    "def generate_data(count):\n",
    "    x = []\n",
    "    y = []\n",
    "\n",
    "    for i in range(0, count):\n",
    "        x.append(rd.randrange(1000)/100.0)\n",
    "        y.append(rd.randrange(1000)/100.0)\n",
    "\n",
    "    return pd.DataFrame({'x': x, 'y': y})"
   ]
  },
  {
   "cell_type": "code",
   "execution_count": 4,
   "id": "81595b30",
   "metadata": {},
   "outputs": [
    {
     "data": {
      "text/html": [
       "<div>\n",
       "<style scoped>\n",
       "    .dataframe tbody tr th:only-of-type {\n",
       "        vertical-align: middle;\n",
       "    }\n",
       "\n",
       "    .dataframe tbody tr th {\n",
       "        vertical-align: top;\n",
       "    }\n",
       "\n",
       "    .dataframe thead th {\n",
       "        text-align: right;\n",
       "    }\n",
       "</style>\n",
       "<table border=\"1\" class=\"dataframe\">\n",
       "  <thead>\n",
       "    <tr style=\"text-align: right;\">\n",
       "      <th></th>\n",
       "      <th>x</th>\n",
       "      <th>y</th>\n",
       "    </tr>\n",
       "  </thead>\n",
       "  <tbody>\n",
       "    <tr>\n",
       "      <th>0</th>\n",
       "      <td>1.37</td>\n",
       "      <td>5.82</td>\n",
       "    </tr>\n",
       "    <tr>\n",
       "      <th>1</th>\n",
       "      <td>8.67</td>\n",
       "      <td>8.21</td>\n",
       "    </tr>\n",
       "    <tr>\n",
       "      <th>2</th>\n",
       "      <td>7.82</td>\n",
       "      <td>0.64</td>\n",
       "    </tr>\n",
       "    <tr>\n",
       "      <th>3</th>\n",
       "      <td>2.61</td>\n",
       "      <td>1.20</td>\n",
       "    </tr>\n",
       "    <tr>\n",
       "      <th>4</th>\n",
       "      <td>5.07</td>\n",
       "      <td>7.79</td>\n",
       "    </tr>\n",
       "    <tr>\n",
       "      <th>5</th>\n",
       "      <td>4.60</td>\n",
       "      <td>4.83</td>\n",
       "    </tr>\n",
       "    <tr>\n",
       "      <th>6</th>\n",
       "      <td>6.67</td>\n",
       "      <td>3.88</td>\n",
       "    </tr>\n",
       "    <tr>\n",
       "      <th>7</th>\n",
       "      <td>8.07</td>\n",
       "      <td>2.14</td>\n",
       "    </tr>\n",
       "    <tr>\n",
       "      <th>8</th>\n",
       "      <td>0.96</td>\n",
       "      <td>4.99</td>\n",
       "    </tr>\n",
       "    <tr>\n",
       "      <th>9</th>\n",
       "      <td>0.29</td>\n",
       "      <td>9.14</td>\n",
       "    </tr>\n",
       "  </tbody>\n",
       "</table>\n",
       "</div>"
      ],
      "text/plain": [
       "      x     y\n",
       "0  1.37  5.82\n",
       "1  8.67  8.21\n",
       "2  7.82  0.64\n",
       "3  2.61  1.20\n",
       "4  5.07  7.79\n",
       "5  4.60  4.83\n",
       "6  6.67  3.88\n",
       "7  8.07  2.14\n",
       "8  0.96  4.99\n",
       "9  0.29  9.14"
      ]
     },
     "execution_count": 4,
     "metadata": {},
     "output_type": "execute_result"
    },
    {
     "data": {
      "image/png": "[encoded data removed]",
      "text/plain": [
       "<Figure size 432x288 with 1 Axes>"
      ]
     },
     "metadata": {
      "needs_background": "light"
     },
     "output_type": "display_data"
    }
   ],
   "source": [
    "npoints = 10\n",
    "\n",
    "points = generate_data(npoints)\n",
    "plt.scatter(points['x'], points['y'], c='r')\n",
    "plt.grid(True)\n",
    "points"
   ]
  },
  {
   "cell_type": "code",
   "execution_count": 5,
   "id": "30f367f1",
   "metadata": {},
   "outputs": [],
   "source": [
    "points.to_csv(\"points.csv\")"
   ]
  },
  {
   "cell_type": "code",
   "execution_count": 6,
   "id": "e1f2e2ec",
   "metadata": {},
   "outputs": [
    {
     "data": {
      "text/html": [
       "<div>\n",
       "<style scoped>\n",
       "    .dataframe tbody tr th:only-of-type {\n",
       "        vertical-align: middle;\n",
       "    }\n",
       "\n",
       "    .dataframe tbody tr th {\n",
       "        vertical-align: top;\n",
       "    }\n",
       "\n",
       "    .dataframe thead th {\n",
       "        text-align: right;\n",
       "    }\n",
       "</style>\n",
       "<table border=\"1\" class=\"dataframe\">\n",
       "  <thead>\n",
       "    <tr style=\"text-align: right;\">\n",
       "      <th></th>\n",
       "      <th>x</th>\n",
       "      <th>y</th>\n",
       "    </tr>\n",
       "  </thead>\n",
       "  <tbody>\n",
       "    <tr>\n",
       "      <th>0</th>\n",
       "      <td>1.37</td>\n",
       "      <td>5.82</td>\n",
       "    </tr>\n",
       "    <tr>\n",
       "      <th>1</th>\n",
       "      <td>8.67</td>\n",
       "      <td>8.21</td>\n",
       "    </tr>\n",
       "    <tr>\n",
       "      <th>2</th>\n",
       "      <td>7.82</td>\n",
       "      <td>0.64</td>\n",
       "    </tr>\n",
       "    <tr>\n",
       "      <th>3</th>\n",
       "      <td>2.61</td>\n",
       "      <td>1.20</td>\n",
       "    </tr>\n",
       "    <tr>\n",
       "      <th>4</th>\n",
       "      <td>5.07</td>\n",
       "      <td>7.79</td>\n",
       "    </tr>\n",
       "    <tr>\n",
       "      <th>5</th>\n",
       "      <td>4.60</td>\n",
       "      <td>4.83</td>\n",
       "    </tr>\n",
       "    <tr>\n",
       "      <th>6</th>\n",
       "      <td>6.67</td>\n",
       "      <td>3.88</td>\n",
       "    </tr>\n",
       "    <tr>\n",
       "      <th>7</th>\n",
       "      <td>8.07</td>\n",
       "      <td>2.14</td>\n",
       "    </tr>\n",
       "    <tr>\n",
       "      <th>8</th>\n",
       "      <td>0.96</td>\n",
       "      <td>4.99</td>\n",
       "    </tr>\n",
       "    <tr>\n",
       "      <th>9</th>\n",
       "      <td>0.29</td>\n",
       "      <td>9.14</td>\n",
       "    </tr>\n",
       "  </tbody>\n",
       "</table>\n",
       "</div>"
      ],
      "text/plain": [
       "      x     y\n",
       "0  1.37  5.82\n",
       "1  8.67  8.21\n",
       "2  7.82  0.64\n",
       "3  2.61  1.20\n",
       "4  5.07  7.79\n",
       "5  4.60  4.83\n",
       "6  6.67  3.88\n",
       "7  8.07  2.14\n",
       "8  0.96  4.99\n",
       "9  0.29  9.14"
      ]
     },
     "execution_count": 6,
     "metadata": {},
     "output_type": "execute_result"
    }
   ],
   "source": [
    "points = pd.read_csv(\"points.csv\", index_col=0)\n",
    "points"
   ]
  },
  {
   "cell_type": "code",
   "execution_count": 7,
   "id": "aa370dcf",
   "metadata": {},
   "outputs": [],
   "source": [
    "def get_edge_ids():\n",
    "    if SEED == 1:\n",
    "        return pd.DataFrame({\n",
    "            'start':[0, 0, 4, 4, 6, 6, 2, 2],\n",
    "            'end'  :[9, 8, 5, 1, 5, 1, 3, 7]\n",
    "        })\n",
    "\n",
    "edgeIds = get_edge_ids()"
   ]
  },
  {
   "cell_type": "code",
   "execution_count": 8,
   "id": "fadd42e6",
   "metadata": {},
   "outputs": [],
   "source": [
    "def generate_edge_point(i, j):\n",
    "    return [\n",
    "        [points['x'][i], points['x'][j]],\n",
    "        [points['y'][i], points['y'][j]]\n",
    "    ]\n",
    "\n",
    "def generate_edge_point_raw(p1, p2):\n",
    "    return [\n",
    "        [p1[0], p2[0]],\n",
    "        [p1[1], p2[1]]\n",
    "    ]"
   ]
  },
  {
   "cell_type": "code",
   "execution_count": 9,
   "id": "f9e616fc",
   "metadata": {},
   "outputs": [],
   "source": [
    "def get_angle(point):\n",
    "    x = point[0]\n",
    "    y = point[1]\n",
    "    size = math.sqrt(x*x + y*y)\n",
    "    angle = math.acos(x/size)*180/math.pi\n",
    "    \n",
    "    if y < 0:\n",
    "        angle = 360 - angle\n",
    "        \n",
    "    return angle"
   ]
  },
  {
   "cell_type": "code",
   "execution_count": 10,
   "id": "d6d558fe",
   "metadata": {},
   "outputs": [],
   "source": [
    "def normalize_vector(point):\n",
    "    x = point[0]\n",
    "    y = point[1]\n",
    "    size = math.sqrt(x*x + y*y)\n",
    "    return [x/size, y/size]"
   ]
  },
  {
   "cell_type": "code",
   "execution_count": 11,
   "id": "8cacb525",
   "metadata": {},
   "outputs": [],
   "source": [
    "def add_vector_to_point(point, vector, size):\n",
    "    vector = normalize_vector(vector)\n",
    "    return [point[0] + vector[0]*size, point[1] + vector[1]*size]"
   ]
  },
  {
   "cell_type": "code",
   "execution_count": 12,
   "id": "702ff606",
   "metadata": {},
   "outputs": [],
   "source": [
    "def rotate_point(base, point, angle):\n",
    "    s = math.sin(angle*math.pi/180)\n",
    "    c = math.cos(angle*math.pi/180)\n",
    "    \n",
    "    x = point[0] - base[0]\n",
    "    y = point[1] - base[1]\n",
    "    \n",
    "    return [\n",
    "        x*c - y*s + base[0],\n",
    "        x*s + y*c + base[1]\n",
    "    ]"
   ]
  },
  {
   "cell_type": "code",
   "execution_count": 13,
   "id": "f6a7ccea",
   "metadata": {},
   "outputs": [],
   "source": [
    "FOV = 70\n",
    "RADIUS = 5\n",
    "\n",
    "ORIGIN = [4, 4.5]\n",
    "DIRECTION = [1, 1]\n",
    "\n",
    "base_angle = get_angle(DIRECTION)\n",
    "\n",
    "viewpoint = add_vector_to_point(ORIGIN, DIRECTION, RADIUS)\n",
    "\n",
    "viewpoint_begin = rotate_point(ORIGIN, viewpoint, FOV/2)\n",
    "viewpoint_end = rotate_point(ORIGIN, viewpoint, -FOV/2)\n",
    "\n",
    "axis_xp = rotate_point(ORIGIN, viewpoint, -90)\n",
    "axis_xn = rotate_point(ORIGIN, viewpoint, 90)"
   ]
  },
  {
   "cell_type": "code",
   "execution_count": 14,
   "id": "0f5ad59b",
   "metadata": {
    "scrolled": false
   },
   "outputs": [
    {
     "data": {
      "image/png": "[encoded data removed]",
      "text/plain": [
       "<Figure size 504x504 with 1 Axes>"
      ]
     },
     "metadata": {
      "needs_background": "light"
     },
     "output_type": "display_data"
    }
   ],
   "source": [
    "DATA_POINT_COLOR = 'lightblue'\n",
    "DATA_EDGE_COLOR = 'lightblue'\n",
    "\n",
    "ORIGIN_COLOR = 'lime'\n",
    "VIEWPOINT_COLOR = 'orange'\n",
    "VIEWPOINT_EDGE_COLOR = 'orange'\n",
    "\n",
    "AXIS_POINT_COLOR = 'lightgreen'\n",
    "AXIS_EDGE_COLOR = 'lightgreen'\n",
    "\n",
    "def plot_situation():\n",
    "    plt.rcParams[\"figure.autolayout\"] = True\n",
    "\n",
    "    # Plot the building edges\n",
    "    for index, edge_id in edgeIds.iterrows():\n",
    "        edge_point = generate_edge_point(edge_id[0], edge_id[1])\n",
    "        plt.plot(\n",
    "            edge_point[0], edge_point[1], \n",
    "            linestyle=\"--\", c=DATA_POINT_COLOR\n",
    "        )\n",
    "\n",
    "    # Plot the points\n",
    "    for index, row in points.iterrows():\n",
    "        plt.scatter(row['x'], row['y'], c=DATA_EDGE_COLOR)\n",
    "        plt.text(row['x'] + 0.1, row['y'] + 0.1, index)\n",
    "\n",
    "    # Plot the origin\n",
    "    plt.scatter(ORIGIN[0], ORIGIN[1], c=ORIGIN_COLOR)\n",
    "\n",
    "    # Plot the point of view\n",
    "    plt.scatter(viewpoint[0], viewpoint[1], c=AXIS_POINT_COLOR)\n",
    "    plt.scatter(viewpoint_begin[0], viewpoint_begin[1], c=VIEWPOINT_COLOR)\n",
    "    plt.scatter(viewpoint_end[0], viewpoint_end[1], c=VIEWPOINT_COLOR)\n",
    "    plt.scatter(axis_xp[0], axis_xp[1], c=AXIS_POINT_COLOR)\n",
    "    plt.scatter(axis_xn[0], axis_xn[1], c=AXIS_POINT_COLOR)\n",
    "\n",
    "    viewpoint_edge_point = generate_edge_point_raw(ORIGIN, viewpoint)\n",
    "    plt.plot(\n",
    "        viewpoint_edge_point[0], viewpoint_edge_point[1], \n",
    "        linestyle=\"--\", c=AXIS_EDGE_COLOR\n",
    "    )\n",
    "\n",
    "    viewpoint_edge_point_begin = generate_edge_point_raw(ORIGIN, viewpoint_begin)\n",
    "    plt.plot(\n",
    "        viewpoint_edge_point_begin[0], viewpoint_edge_point_begin[1], \n",
    "        linestyle=\"--\", c=VIEWPOINT_EDGE_COLOR\n",
    "    )\n",
    "\n",
    "    viewpoint_edge_point_end = generate_edge_point_raw(ORIGIN, viewpoint_end)\n",
    "    plt.plot(\n",
    "        viewpoint_edge_point_end[0], viewpoint_edge_point_end[1], \n",
    "        linestyle=\"--\", c=VIEWPOINT_EDGE_COLOR\n",
    "    )\n",
    "\n",
    "    axis_xp_viewpoint = generate_edge_point_raw(ORIGIN, axis_xp)\n",
    "    plt.plot(\n",
    "        axis_xp_viewpoint[0], axis_xp_viewpoint[1], \n",
    "        linestyle=\"--\", c=AXIS_EDGE_COLOR\n",
    "    )\n",
    "\n",
    "    axis_xn_viewpoint = generate_edge_point_raw(ORIGIN, axis_xn)\n",
    "    plt.plot(\n",
    "        axis_xn_viewpoint[0], axis_xn_viewpoint[1], \n",
    "        linestyle=\"--\", c=AXIS_EDGE_COLOR\n",
    "    )\n",
    "\n",
    "    angle = np.linspace(0, 2*math.pi, 150 ) \n",
    "\n",
    "    x = RADIUS*np.cos(angle) + ORIGIN[0]\n",
    "    y = RADIUS*np.sin(angle) + ORIGIN[1]\n",
    "\n",
    "    plt.plot(x, y, linestyle=\"--\", c=AXIS_EDGE_COLOR)\n",
    "    \n",
    "    plt.grid(True)\n",
    "    plt.xlim(-1, 10)\n",
    "    plt.ylim(-1, 10)\n",
    "\n",
    "    fig = plt.gcf()\n",
    "    fig.set_size_inches(7,7)\n",
    "    plt.show()\n",
    "    \n",
    "plot_situation()"
   ]
  },
  {
   "cell_type": "code",
   "execution_count": null,
   "id": "ea32fc40",
   "metadata": {},
   "outputs": [],
   "source": []
  }
 ],
 "metadata": {
  "kernelspec": {
   "display_name": "Python 3 (ipykernel)",
   "language": "python",
   "name": "python3"
  },
  "language_info": {
   "codemirror_mode": {
    "name": "ipython",
    "version": 3
   },
   "file_extension": ".py",
   "mimetype": "text/x-python",
   "name": "python",
   "nbconvert_exporter": "python",
   "pygments_lexer": "ipython3",
   "version": "3.10.0"
  }
 },
 "nbformat": 4,
 "nbformat_minor": 5
}
