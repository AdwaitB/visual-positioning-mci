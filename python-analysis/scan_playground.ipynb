{
 "cells": [
  {
   "cell_type": "code",
   "execution_count": 1,
   "id": "9bcc6b21",
   "metadata": {},
   "outputs": [],
   "source": [
    "import math\n",
    "\n",
    "import numpy as np\n",
    "import pandas as pd\n",
    "\n",
    "import matplotlib.pyplot as plt\n",
    "import matplotlib.collections as mc\n",
    "\n",
    "from pprint import pprint\n",
    "\n",
    "from plot import *\n",
    "from building import *\n",
    "from config import *\n",
    "from generator import *\n",
    "from dbutils import *\n",
    "from scanner import *\n",
    "from misc_utils import *"
   ]
  },
  {
   "cell_type": "markdown",
   "id": "6389be79",
   "metadata": {},
   "source": [
    "### Assumptions\n",
    "\n",
    "1. Every edge for every building is divided into subparts if the length is very large. For example, a stadium's edge even though it is straight, will be divided into multiple edges to make sure the edge is detected in the scanner. This is required as the scanner's range is restricted. Doing this has no performance hit as the bottleneck is the number of features in edge, so the splitting has no performance hit on ***this*** algorithm.\n",
    "2. Buildings are convex. If not, split the building into convex parts and the overlapping edges with no feature points\n",
    "\n",
    "### Algorithm\n",
    "\n",
    "- Tag all nodes, edges based on FOV\n",
    "- Find all the buildings that are there in the given FOV\n",
    "    - A building is visible if either the edge is tagged in FOV or the vertex is tagged in FOV\n",
    "- For all buildings get the frontier set of edges based on the ORIGIN\n",
    "- Valid edges are current all edges that are tagged in FOV as well as in the frontier.\n",
    "- Remove edges from this set that are overshadowed\n",
    "- Calculate the effective scope of each building\n",
    "- For every building scope, remove edges that are overshadowed by this scope"
   ]
  },
  {
   "cell_type": "code",
   "execution_count": 2,
   "id": "cc3bb827",
   "metadata": {},
   "outputs": [
    {
     "name": "stdout",
     "output_type": "stream",
     "text": [
      "points\n",
      "      x     y      color\n",
      "0  1.37  5.82  lightblue\n",
      "1  8.67  8.21  lightblue\n",
      "2  7.82  0.64  lightblue\n",
      "3  2.61  1.20  lightblue\n",
      "4  5.07  7.79  lightblue\n",
      "5  4.60  4.83  lightblue\n",
      "6  6.67  3.88  lightblue\n",
      "7  8.07  2.14  lightblue\n",
      "8  0.96  4.99  lightblue\n",
      "9  0.29  9.14  lightblue\n",
      "\n",
      "edges\n",
      "   start  end      color\n",
      "0      0    9  lightblue\n",
      "1      0    8  lightblue\n",
      "2      4    5  lightblue\n",
      "3      4    1  lightblue\n",
      "4      6    5  lightblue\n",
      "5      6    1  lightblue\n",
      "6      2    3  lightblue\n",
      "7      2    7  lightblue\n",
      "\n",
      "edges_mat\n",
      "[[-1, -1, -1, -1, -1, -1, -1, -1, 1, 0],\n",
      " [-1, -1, -1, -1, 3, -1, 5, -1, -1, -1],\n",
      " [-1, -1, -1, 6, -1, -1, -1, 7, -1, -1],\n",
      " [-1, -1, 6, -1, -1, -1, -1, -1, -1, -1],\n",
      " [-1, 3, -1, -1, -1, 2, -1, -1, -1, -1],\n",
      " [-1, -1, -1, -1, 2, -1, 4, -1, -1, -1],\n",
      " [-1, 5, -1, -1, -1, 4, -1, -1, -1, -1],\n",
      " [-1, -1, 7, -1, -1, -1, -1, -1, -1, -1],\n",
      " [1, -1, -1, -1, -1, -1, -1, -1, -1, -1],\n",
      " [0, -1, -1, -1, -1, -1, -1, -1, -1, -1]]\n",
      "\n",
      "edges_list\n",
      "[[[9, 0], [8, 1]],\n",
      " [[4, 3], [6, 5]],\n",
      " [[3, 6], [7, 7]],\n",
      " [[2, 6]],\n",
      " [[5, 2], [1, 3]],\n",
      " [[4, 2], [6, 4]],\n",
      " [[5, 4], [1, 5]],\n",
      " [[2, 7]],\n",
      " [[0, 1]],\n",
      " [[0, 0]]]\n",
      "\n"
     ]
    }
   ],
   "source": [
    "points = generate_data(NPOINTS)\n",
    "print_util(points, \"points\")\n",
    "\n",
    "edges = get_edges()\n",
    "print_util(edges, \"edges\")\n",
    "\n",
    "edges_mat = get_adj_mat(points, edges)\n",
    "print_util(edges_mat, \"edges_mat\")\n",
    "\n",
    "edges_list = get_adj_list(points, edges)\n",
    "print_util(edges_list, \"edges_list\")"
   ]
  },
  {
   "cell_type": "code",
   "execution_count": 3,
   "id": "7fdf0e2a",
   "metadata": {},
   "outputs": [
    {
     "name": "stdout",
     "output_type": "stream",
     "text": [
      "base_angle  315.0\n",
      "viewpoint  [8.596194077712559, -0.09619407771255872]\n",
      "viewpoint_begin  [10.401250394579352, 3.3712868451649523]\n",
      "viewpoint_end  [5.128713154835047, -1.9012503945793515]\n",
      "axis_xp  [-0.5961940777125587, -0.09619407771255872]\n",
      "axis_xn  [8.596194077712559, 9.096194077712559]\n"
     ]
    }
   ],
   "source": [
    "base_angle = get_angle(DIRECTION)\n",
    "\n",
    "viewpoint = add_vector_to_point(ORIGIN, DIRECTION, RADIUS)\n",
    "\n",
    "viewpoint_begin = rotate_point(viewpoint, ORIGIN, FOV/2)\n",
    "viewpoint_end = rotate_point(viewpoint, ORIGIN, -FOV/2)\n",
    "\n",
    "axis_xp = rotate_point(viewpoint, ORIGIN, -90)\n",
    "axis_xn = rotate_point(viewpoint, ORIGIN, 90)\n",
    "\n",
    "print(\"base_angle \", base_angle)\n",
    "print(\"viewpoint \", viewpoint)\n",
    "print(\"viewpoint_begin \", viewpoint_begin)\n",
    "print(\"viewpoint_end \", viewpoint_end)\n",
    "print(\"axis_xp \", axis_xp)\n",
    "print(\"axis_xn \", axis_xn)"
   ]
  },
  {
   "cell_type": "code",
   "execution_count": 4,
   "id": "0bc67045",
   "metadata": {},
   "outputs": [
    {
     "name": "stdout",
     "output_type": "stream",
     "text": [
      "points\n",
      "      x     y      color  normalized_angle\n",
      "0  1.37  5.82  lightblue        288.347873\n",
      "1  8.67  8.21    fuchsia        173.464772\n",
      "2  7.82  0.64      black         89.701587\n",
      "3  2.61  1.20    crimson         22.158584\n",
      "4  5.07  7.79  lightblue        206.984026\n",
      "5  4.60  4.83    fuchsia        163.810794\n",
      "6  6.67  3.88      black        121.927046\n",
      "7  8.07  2.14      black        104.892588\n",
      "8  0.96  4.99  lightblue        305.843579\n",
      "9  0.29  9.14  lightblue        263.644746\n",
      "\n"
     ]
    }
   ],
   "source": [
    "tag_points_fov(points)\n",
    "print_util(points, \"points\")"
   ]
  },
  {
   "cell_type": "code",
   "execution_count": 5,
   "id": "714edebb",
   "metadata": {},
   "outputs": [
    {
     "name": "stdout",
     "output_type": "stream",
     "text": [
      "   start  end      color\n",
      "0      0    9  lightblue\n",
      "1      0    8  lightblue\n",
      "2      4    5  lightblue\n",
      "3      4    1  lightblue\n",
      "4      6    5      black\n",
      "5      6    1      black\n",
      "6      2    3      black\n",
      "7      2    7      black\n",
      "\n"
     ]
    }
   ],
   "source": [
    "tag_edges_fov(points, edges)\n",
    "print_util(edges)"
   ]
  },
  {
   "cell_type": "code",
   "execution_count": 6,
   "id": "a4ce02b1",
   "metadata": {},
   "outputs": [
    {
     "name": "stdout",
     "output_type": "stream",
     "text": [
      "id_to_build_map\n",
      "{1: 0, 2: 1, 3: 1, 4: 0, 5: 0, 6: 0, 7: 1}\n",
      "\n",
      "buildings\n",
      "{0: [1, 4, 6, 5], 1: [2, 3, 7]}\n",
      "\n"
     ]
    }
   ],
   "source": [
    "id_to_build_map, buildings = get_building_set(points, edges_list)\n",
    "print_util(id_to_build_map, \"id_to_build_map\")\n",
    "print_util(buildings, \"buildings\")"
   ]
  },
  {
   "cell_type": "code",
   "execution_count": 7,
   "id": "828a0558",
   "metadata": {},
   "outputs": [
    {
     "name": "stdout",
     "output_type": "stream",
     "text": [
      "[[0.6847627326307993, 163.8107937429731, 5, 4.6, 4.83],\n",
      " [2.7410399486326353, 121.92704612329919, 6, 6.67, 3.88],\n",
      " [3.4596242570545144, 206.98402564334071, 4, 5.07, 7.79],\n",
      " [5.964310521761925, 173.46477231359748, 1, 8.67, 8.21]]\n",
      "\n",
      "[[3.580796000891422, 22.158584269771097, 3, 2.61, 1.2],\n",
      " [4.704731660785767, 104.89258763072831, 7, 8.07, 2.14],\n",
      " [5.430653735969547, 89.7015871800051, 2, 7.82, 0.64]]\n",
      "\n",
      "{0: [6, 4], 1: [3, 7]}\n",
      "\n"
     ]
    }
   ],
   "source": [
    "spans = get_spans(points, edges, edges_list, buildings)\n",
    "print_util(spans)"
   ]
  },
  {
   "cell_type": "code",
   "execution_count": 8,
   "id": "b534ebf4",
   "metadata": {},
   "outputs": [
    {
     "data": {
      "image/png": "[encoded data removed]",
      "text/plain": [
       "<Figure size 504x504 with 1 Axes>"
      ]
     },
     "metadata": {
      "needs_background": "light"
     },
     "output_type": "display_data"
    }
   ],
   "source": [
    "plot_situation(points, edges, viewpoint, viewpoint_begin, viewpoint_end, axis_xp, axis_xn)"
   ]
  },
  {
   "cell_type": "code",
   "execution_count": null,
   "id": "fa3c59bf",
   "metadata": {},
   "outputs": [],
   "source": []
  }
 ],
 "metadata": {
  "kernelspec": {
   "display_name": "Python 3 (ipykernel)",
   "language": "python",
   "name": "python3"
  },
  "language_info": {
   "codemirror_mode": {
    "name": "ipython",
    "version": 3
   },
   "file_extension": ".py",
   "mimetype": "text/x-python",
   "name": "python",
   "nbconvert_exporter": "python",
   "pygments_lexer": "ipython3",
   "version": "3.10.0"
  }
 },
 "nbformat": 4,
 "nbformat_minor": 5
}
