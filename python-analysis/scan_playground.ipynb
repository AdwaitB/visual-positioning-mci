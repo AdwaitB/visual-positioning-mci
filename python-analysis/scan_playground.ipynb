{
 "cells": [
  {
   "cell_type": "code",
   "execution_count": 1,
   "id": "9bcc6b21",
   "metadata": {},
   "outputs": [],
   "source": [
    "import math\n",
    "\n",
    "import numpy as np\n",
    "import pandas as pd\n",
    "\n",
    "import matplotlib.pyplot as plt\n",
    "import matplotlib.collections as mc\n",
    "\n",
    "from pprint import pprint\n",
    "\n",
    "from plot import *\n",
    "from building import *\n",
    "from config import *\n",
    "from generator import *\n",
    "from db_utils import *\n",
    "from scanner import *\n",
    "from misc_utils import *"
   ]
  },
  {
   "cell_type": "markdown",
   "id": "5ddc0b3d",
   "metadata": {},
   "source": [
    "### Assumptions\n",
    "\n",
    "1. Every edge for every building is divided into subparts if the length is very large. For example, a stadium's edge even though it is straight, will be divided into multiple edges to make sure the edge is detected in the scanner. This is required as the scanner's range is restricted. Doing this has no performance hit as the bottleneck is the number of features in edge, so the splitting has no performance hit on ***this*** algorithm.\n",
    "2. Buildings are convex. If not, split the building into convex parts and the overlapping edges with no feature points\n",
    "\n",
    "### Algorithm\n",
    "\n",
    "- Tag all nodes, edges based on FOV\n",
    "- Find all the buildings that are there in the given FOV\n",
    "    - A building is visible if either the edge is tagged in FOV or the vertex is tagged in FOV\n",
    "- For all buildings get the frontier set of edges based on the ORIGIN\n",
    "- Valid edges are current all edges that are tagged in FOV as well as in the frontier.\n",
    "- Remove edges from this set that are overshadowed\n",
    "- Calculate the effective scope of each building\n",
    "- For every building scope, remove edges that are overshadowed by this scope"
   ]
  },
  {
   "cell_type": "code",
   "execution_count": 2,
   "id": "3629962e",
   "metadata": {
    "scrolled": false
   },
   "outputs": [
    {
     "name": "stdout",
     "output_type": "stream",
     "text": [
      "0    culc0\n",
      "1    culc1\n",
      "2    culc2\n",
      "3    culc3\n",
      "4    culc4\n",
      "Name: p1_tag, dtype: object\n",
      "points\n",
      "            y          x         tag  level                            desc  \\\n",
      "0   33.775231 -84.396620       culc0      0                   CULC Entrance   \n",
      "1   33.775146 -84.396161       culc1      0                       CULC Back   \n",
      "2   33.774515 -84.396166       culc2      0          CULC Library Connector   \n",
      "3   33.774206 -84.396171       culc3      0          CULC Library Connector   \n",
      "4   33.774151 -84.396629       culc4      0             CULC Other Entrance   \n",
      "5   33.774510 -84.396068     prglib0      0    Price Gilbert Library Back 1   \n",
      "6   33.774502 -84.395481     prglib1      0    Price Gilbert Library Back 2   \n",
      "7   33.774198 -84.395479     prglib2      0  Price Gilbert Library Conector   \n",
      "8   33.774206 -84.396075     prglib3      0  Price Gilbert Library Conector   \n",
      "9   33.774352 -84.395360  crossland0      0                     Crossland 1   \n",
      "10  33.774349 -84.394956  crossland2      0                     Crossland 2   \n",
      "11  33.774029 -84.394975  crossland3      0                     Crossland 3   \n",
      "12  33.774034 -84.395363  crossland4      0                     Crossland 4   \n",
      "\n",
      "        color  \n",
      "0   lightblue  \n",
      "1   lightblue  \n",
      "2   lightblue  \n",
      "3   lightblue  \n",
      "4   lightblue  \n",
      "5   lightblue  \n",
      "6   lightblue  \n",
      "7   lightblue  \n",
      "8   lightblue  \n",
      "9   lightblue  \n",
      "10  lightblue  \n",
      "11  lightblue  \n",
      "12  lightblue  \n",
      "\n",
      "edges\n",
      "                  tag p1_tag p2_tag direction  virtual      color  start  end\n",
      "0  culc_main_entrance  culc0  culc1         N        0  lightblue      0    1\n",
      "1         culc_back_1  culc1  culc2         E        0  lightblue      1    2\n",
      "2      culc_connector  culc2  culc3         E        1  lightblue      2    3\n",
      "3  culc_back_entrance  culc3  culc4         S        0  lightblue      3    4\n",
      "4             culc_tg  culc4  culc0         W        0  lightblue      4    0\n",
      "\n",
      "edges_mat\n",
      "[[-1, 0, -1, -1, 4, -1, -1, -1, -1, -1, -1, -1, -1],\n",
      " [0, -1, 1, -1, -1, -1, -1, -1, -1, -1, -1, -1, -1],\n",
      " [-1, 1, -1, 2, -1, -1, -1, -1, -1, -1, -1, -1, -1],\n",
      " [-1, -1, 2, -1, 3, -1, -1, -1, -1, -1, -1, -1, -1],\n",
      " [4, -1, -1, 3, -1, -1, -1, -1, -1, -1, -1, -1, -1],\n",
      " [-1, -1, -1, -1, -1, -1, -1, -1, -1, -1, -1, -1, -1],\n",
      " [-1, -1, -1, -1, -1, -1, -1, -1, -1, -1, -1, -1, -1],\n",
      " [-1, -1, -1, -1, -1, -1, -1, -1, -1, -1, -1, -1, -1],\n",
      " [-1, -1, -1, -1, -1, -1, -1, -1, -1, -1, -1, -1, -1],\n",
      " [-1, -1, -1, -1, -1, -1, -1, -1, -1, -1, -1, -1, -1],\n",
      " [-1, -1, -1, -1, -1, -1, -1, -1, -1, -1, -1, -1, -1],\n",
      " [-1, -1, -1, -1, -1, -1, -1, -1, -1, -1, -1, -1, -1],\n",
      " [-1, -1, -1, -1, -1, -1, -1, -1, -1, -1, -1, -1, -1]]\n",
      "\n",
      "edges_list\n",
      "[[[1, 0], [4, 4]],\n",
      " [[0, 0], [2, 1]],\n",
      " [[1, 1], [3, 2]],\n",
      " [[2, 2], [4, 3]],\n",
      " [[3, 3], [0, 4]],\n",
      " [],\n",
      " [],\n",
      " [],\n",
      " [],\n",
      " [],\n",
      " [],\n",
      " [],\n",
      " []]\n",
      "\n"
     ]
    }
   ],
   "source": [
    "if ORIGINAL_DATA:\n",
    "    points = read_points()\n",
    "    edges = read_edges(points)\n",
    "else:\n",
    "    points = generate_data(NPOINTS)\n",
    "    edges = get_edges()\n",
    "\n",
    "print_util(points, \"points\")\n",
    "print_util(edges, \"edges\")\n",
    "\n",
    "edges_mat = get_adj_mat(points, edges)\n",
    "print_util(edges_mat, \"edges_mat\")\n",
    "\n",
    "edges_list = get_adj_list(points, edges)\n",
    "print_util(edges_list, \"edges_list\")"
   ]
  },
  {
   "cell_type": "code",
   "execution_count": 3,
   "id": "e896f882",
   "metadata": {},
   "outputs": [
    {
     "name": "stdout",
     "output_type": "stream",
     "text": [
      "base_angle  45.00000000000001\n",
      "viewpoint  [-84.39522332270843, 33.776479614088515]\n",
      "viewpoint_begin  [-84.39682369851899, 33.777312717003994]\n",
      "viewpoint_end  [-84.39439021979295, 33.774879238277954]\n",
      "axis_xp  [-84.39522332270843, 33.77223697340139]\n",
      "axis_xn  [-84.39946596339556, 33.776479614088515]\n"
     ]
    }
   ],
   "source": [
    "base_angle = get_angle(DIRECTION)\n",
    "\n",
    "viewpoint = add_vector_to_point(ORIGIN, DIRECTION, RADIUS)\n",
    "\n",
    "viewpoint_begin = rotate_point(viewpoint, ORIGIN, FOV/2)\n",
    "viewpoint_end = rotate_point(viewpoint, ORIGIN, -FOV/2)\n",
    "\n",
    "axis_xp = rotate_point(viewpoint, ORIGIN, -90)\n",
    "axis_xn = rotate_point(viewpoint, ORIGIN, 90)\n",
    "\n",
    "print(\"base_angle \", base_angle)\n",
    "print(\"viewpoint \", viewpoint)\n",
    "print(\"viewpoint_begin \", viewpoint_begin)\n",
    "print(\"viewpoint_end \", viewpoint_end)\n",
    "print(\"axis_xp \", axis_xp)\n",
    "print(\"axis_xn \", axis_xn)"
   ]
  },
  {
   "cell_type": "code",
   "execution_count": 4,
   "id": "372e03c5",
   "metadata": {},
   "outputs": [
    {
     "name": "stdout",
     "output_type": "stream",
     "text": [
      "points\n",
      "            y          x         tag  level                            desc  \\\n",
      "0   33.775231 -84.396620       culc0      0                   CULC Entrance   \n",
      "1   33.775146 -84.396161       culc1      0                       CULC Back   \n",
      "2   33.774515 -84.396166       culc2      0          CULC Library Connector   \n",
      "3   33.774206 -84.396171       culc3      0          CULC Library Connector   \n",
      "4   33.774151 -84.396629       culc4      0             CULC Other Entrance   \n",
      "5   33.774510 -84.396068     prglib0      0    Price Gilbert Library Back 1   \n",
      "6   33.774502 -84.395481     prglib1      0    Price Gilbert Library Back 2   \n",
      "7   33.774198 -84.395479     prglib2      0  Price Gilbert Library Conector   \n",
      "8   33.774206 -84.396075     prglib3      0  Price Gilbert Library Conector   \n",
      "9   33.774352 -84.395360  crossland0      0                     Crossland 1   \n",
      "10  33.774349 -84.394956  crossland2      0                     Crossland 2   \n",
      "11  33.774029 -84.394975  crossland3      0                     Crossland 3   \n",
      "12  33.774034 -84.395363  crossland4      0                     Crossland 4   \n",
      "\n",
      "      color  normalized_angle  \n",
      "0     black         95.292736  \n",
      "1     black         78.639521  \n",
      "2   crimson         52.550267  \n",
      "3   crimson        397.587104  \n",
      "4   crimson        388.854638  \n",
      "5   crimson         51.764361  \n",
      "6   crimson         49.422400  \n",
      "7   crimson        400.100524  \n",
      "8   crimson        398.143252  \n",
      "9   crimson        404.825161  \n",
      "10  crimson        404.767537  \n",
      "11  crimson        397.083760  \n",
      "12  crimson        395.697439  \n",
      "\n"
     ]
    }
   ],
   "source": [
    "tag_points_fov(points)\n",
    "print_util(points, \"points\")"
   ]
  },
  {
   "cell_type": "code",
   "execution_count": 5,
   "id": "4403ca86",
   "metadata": {},
   "outputs": [
    {
     "name": "stdout",
     "output_type": "stream",
     "text": [
      "                  tag p1_tag p2_tag direction  virtual      color  start  end\n",
      "0  culc_main_entrance  culc0  culc1         N        0      black      0    1\n",
      "1         culc_back_1  culc1  culc2         E        0      black      1    2\n",
      "2      culc_connector  culc2  culc3         E        1  lightblue      2    3\n",
      "3  culc_back_entrance  culc3  culc4         S        0  lightblue      3    4\n",
      "4             culc_tg  culc4  culc0         W        0      black      4    0\n",
      "\n"
     ]
    }
   ],
   "source": [
    "tag_edges_fov(points, edges)\n",
    "print_util(edges)"
   ]
  },
  {
   "cell_type": "code",
   "execution_count": 6,
   "id": "2bff6442",
   "metadata": {},
   "outputs": [
    {
     "name": "stdout",
     "output_type": "stream",
     "text": [
      "id_to_build_map\n",
      "{0: 0,\n",
      " 1: 0,\n",
      " 2: 0,\n",
      " 3: 0,\n",
      " 4: 0,\n",
      " 5: 1,\n",
      " 6: 2,\n",
      " 7: 3,\n",
      " 8: 4,\n",
      " 9: 5,\n",
      " 10: 6,\n",
      " 11: 7,\n",
      " 12: 8}\n",
      "\n",
      "buildings\n",
      "{0: [0, 1, 4, 3, 2],\n",
      " 1: [5],\n",
      " 2: [6],\n",
      " 3: [7],\n",
      " 4: [8],\n",
      " 5: [9],\n",
      " 6: [10],\n",
      " 7: [11],\n",
      " 8: [12]}\n",
      "\n"
     ]
    }
   ],
   "source": [
    "id_to_build_map, buildings = get_building_set(points, edges_list)\n",
    "print_util(id_to_build_map, \"id_to_build_map\")\n",
    "print_util(buildings, \"buildings\")"
   ]
  },
  {
   "cell_type": "code",
   "execution_count": 7,
   "id": "c52f948e",
   "metadata": {
    "scrolled": false
   },
   "outputs": [
    {
     "name": "stdout",
     "output_type": "stream",
     "text": [
      "[[0.0007449780985669958,\n",
      "  388.8546381565265,\n",
      "  4,\n",
      "  -84.39662904741164,\n",
      "  33.77415113379022],\n",
      " [0.0011337916234703026,\n",
      "  95.29273605402969,\n",
      "  0,\n",
      "  -84.39662030286206,\n",
      "  33.77523054069089],\n",
      " [0.001183115372030301,\n",
      "  397.5871036404858,\n",
      "  3,\n",
      "  -84.3961714159838,\n",
      "  33.77420564961636],\n",
      " [0.001189368633934191,\n",
      "  52.55026682100482,\n",
      "  2,\n",
      "  -84.39616558628408,\n",
      "  33.774514571975786],\n",
      " [0.001421469237143213,\n",
      "  78.63952114211887,\n",
      "  1,\n",
      "  -84.3961612140093,\n",
      "  33.77514573929421]]\n",
      "\n",
      "[[0.001285653718193366,\n",
      "  51.764360997364314,\n",
      "  5,\n",
      "  -84.39606793881381,\n",
      "  33.774509726143464]]\n",
      "\n",
      "[[0.0018696129158497514,\n",
      "  49.4223998972665,\n",
      "  6,\n",
      "  -84.39548059656725,\n",
      "  33.774502457394455]]\n",
      "\n",
      "[[0.001872345313684596,\n",
      "  400.10052434741647,\n",
      "  7,\n",
      "  -84.39547913914232,\n",
      "  33.774198380841526]]\n",
      "\n",
      "[[0.0012785617068258276,\n",
      "  398.143252300868,\n",
      "  8,\n",
      "  -84.39607522593845,\n",
      "  33.77420564961636]]\n",
      "\n",
      "[[0.0019850219958372026,\n",
      "  404.82516145876116,\n",
      "  9,\n",
      "  -84.39535963029812,\n",
      "  33.77435223644345]]\n",
      "\n",
      "[[0.0023887391201583984,\n",
      "  404.7675367607404,\n",
      "  10,\n",
      "  -84.39495592359265,\n",
      "  33.77434860206234]]\n",
      "\n",
      "[[0.0023925730419523798,\n",
      "  397.0837599187089,\n",
      "  11,\n",
      "  -84.39497487011674,\n",
      "  33.774028775920826]]\n",
      "\n",
      "[[0.002008512879164419,\n",
      "  395.6974386332491,\n",
      "  12,\n",
      "  -84.39536254514796,\n",
      "  33.774033621780355]]\n",
      "\n",
      "spans\n",
      "{0: [2, 3],\n",
      " 1: [5, 5],\n",
      " 2: [6, 6],\n",
      " 3: [7, 7],\n",
      " 4: [8, 8],\n",
      " 5: [9, 9],\n",
      " 6: [10, 10],\n",
      " 7: [11, 11],\n",
      " 8: [12, 12]}\n",
      "\n"
     ]
    }
   ],
   "source": [
    "spans = get_spans(points, edges, edges_list, buildings)\n",
    "print_util(spans, \"spans\")"
   ]
  },
  {
   "cell_type": "code",
   "execution_count": 8,
   "id": "c657b4db",
   "metadata": {},
   "outputs": [
    {
     "name": "stdout",
     "output_type": "stream",
     "text": [
      "edges after overshadow filter\n",
      "                  tag p1_tag p2_tag direction  virtual      color  start  end\n",
      "0  culc_main_entrance  culc0  culc1         N        0      black      0    1\n",
      "1         culc_back_1  culc1  culc2         E        0  lightblue      1    2\n",
      "2      culc_connector  culc2  culc3         E        1  lightblue      2    3\n",
      "3  culc_back_entrance  culc3  culc4         S        0  lightblue      3    4\n",
      "4             culc_tg  culc4  culc0         W        0      black      4    0\n",
      "\n"
     ]
    }
   ],
   "source": [
    "remove_overshadowing_edges(points, edges)\n",
    "print_util(edges, \"edges after overshadow filter\")"
   ]
  },
  {
   "cell_type": "code",
   "execution_count": 9,
   "id": "f97407c9",
   "metadata": {},
   "outputs": [
    {
     "name": "stdout",
     "output_type": "stream",
     "text": [
      "edges after spanned overshadow filter\n",
      "                  tag p1_tag p2_tag direction  virtual      color  start  end\n",
      "0  culc_main_entrance  culc0  culc1         N        0      black      0    1\n",
      "1         culc_back_1  culc1  culc2         E        0  lightblue      1    2\n",
      "2      culc_connector  culc2  culc3         E        1  lightblue      2    3\n",
      "3  culc_back_entrance  culc3  culc4         S        0  lightblue      3    4\n",
      "4             culc_tg  culc4  culc0         W        0      black      4    0\n",
      "\n"
     ]
    }
   ],
   "source": [
    "remove_overshadowing_edges_spans(points, edges, spans)\n",
    "print_util(edges, \"edges after spanned overshadow filter\")"
   ]
  },
  {
   "cell_type": "code",
   "execution_count": 10,
   "id": "b534ebf4",
   "metadata": {},
   "outputs": [
    {
     "data": {
      "image/png": "[encoded data removed]",
      "text/plain": [
       "<Figure size 504x504 with 1 Axes>"
      ]
     },
     "metadata": {
      "needs_background": "light"
     },
     "output_type": "display_data"
    }
   ],
   "source": [
    "plot_situation(points, edges, viewpoint, viewpoint_begin, viewpoint_end, axis_xp, axis_xn)"
   ]
  },
  {
   "cell_type": "code",
   "execution_count": 11,
   "id": "d796f053",
   "metadata": {},
   "outputs": [
    {
     "data": {
      "text/html": [
       "<div>\n",
       "<style scoped>\n",
       "    .dataframe tbody tr th:only-of-type {\n",
       "        vertical-align: middle;\n",
       "    }\n",
       "\n",
       "    .dataframe tbody tr th {\n",
       "        vertical-align: top;\n",
       "    }\n",
       "\n",
       "    .dataframe thead th {\n",
       "        text-align: right;\n",
       "    }\n",
       "</style>\n",
       "<table border=\"1\" class=\"dataframe\">\n",
       "  <thead>\n",
       "    <tr style=\"text-align: right;\">\n",
       "      <th></th>\n",
       "      <th>y</th>\n",
       "      <th>x</th>\n",
       "      <th>tag</th>\n",
       "      <th>level</th>\n",
       "      <th>desc</th>\n",
       "      <th>color</th>\n",
       "      <th>normalized_angle</th>\n",
       "    </tr>\n",
       "  </thead>\n",
       "  <tbody>\n",
       "    <tr>\n",
       "      <th>0</th>\n",
       "      <td>33.775231</td>\n",
       "      <td>-84.396620</td>\n",
       "      <td>culc0</td>\n",
       "      <td>0</td>\n",
       "      <td>CULC Entrance</td>\n",
       "      <td>black</td>\n",
       "      <td>95.292736</td>\n",
       "    </tr>\n",
       "    <tr>\n",
       "      <th>1</th>\n",
       "      <td>33.775146</td>\n",
       "      <td>-84.396161</td>\n",
       "      <td>culc1</td>\n",
       "      <td>0</td>\n",
       "      <td>CULC Back</td>\n",
       "      <td>black</td>\n",
       "      <td>78.639521</td>\n",
       "    </tr>\n",
       "    <tr>\n",
       "      <th>2</th>\n",
       "      <td>33.774515</td>\n",
       "      <td>-84.396166</td>\n",
       "      <td>culc2</td>\n",
       "      <td>0</td>\n",
       "      <td>CULC Library Connector</td>\n",
       "      <td>crimson</td>\n",
       "      <td>52.550267</td>\n",
       "    </tr>\n",
       "    <tr>\n",
       "      <th>3</th>\n",
       "      <td>33.774206</td>\n",
       "      <td>-84.396171</td>\n",
       "      <td>culc3</td>\n",
       "      <td>0</td>\n",
       "      <td>CULC Library Connector</td>\n",
       "      <td>crimson</td>\n",
       "      <td>397.587104</td>\n",
       "    </tr>\n",
       "    <tr>\n",
       "      <th>4</th>\n",
       "      <td>33.774151</td>\n",
       "      <td>-84.396629</td>\n",
       "      <td>culc4</td>\n",
       "      <td>0</td>\n",
       "      <td>CULC Other Entrance</td>\n",
       "      <td>crimson</td>\n",
       "      <td>388.854638</td>\n",
       "    </tr>\n",
       "    <tr>\n",
       "      <th>5</th>\n",
       "      <td>33.774510</td>\n",
       "      <td>-84.396068</td>\n",
       "      <td>prglib0</td>\n",
       "      <td>0</td>\n",
       "      <td>Price Gilbert Library Back 1</td>\n",
       "      <td>crimson</td>\n",
       "      <td>51.764361</td>\n",
       "    </tr>\n",
       "    <tr>\n",
       "      <th>6</th>\n",
       "      <td>33.774502</td>\n",
       "      <td>-84.395481</td>\n",
       "      <td>prglib1</td>\n",
       "      <td>0</td>\n",
       "      <td>Price Gilbert Library Back 2</td>\n",
       "      <td>crimson</td>\n",
       "      <td>49.422400</td>\n",
       "    </tr>\n",
       "    <tr>\n",
       "      <th>7</th>\n",
       "      <td>33.774198</td>\n",
       "      <td>-84.395479</td>\n",
       "      <td>prglib2</td>\n",
       "      <td>0</td>\n",
       "      <td>Price Gilbert Library Conector</td>\n",
       "      <td>crimson</td>\n",
       "      <td>400.100524</td>\n",
       "    </tr>\n",
       "    <tr>\n",
       "      <th>8</th>\n",
       "      <td>33.774206</td>\n",
       "      <td>-84.396075</td>\n",
       "      <td>prglib3</td>\n",
       "      <td>0</td>\n",
       "      <td>Price Gilbert Library Conector</td>\n",
       "      <td>crimson</td>\n",
       "      <td>398.143252</td>\n",
       "    </tr>\n",
       "    <tr>\n",
       "      <th>9</th>\n",
       "      <td>33.774352</td>\n",
       "      <td>-84.395360</td>\n",
       "      <td>crossland0</td>\n",
       "      <td>0</td>\n",
       "      <td>Crossland 1</td>\n",
       "      <td>crimson</td>\n",
       "      <td>404.825161</td>\n",
       "    </tr>\n",
       "    <tr>\n",
       "      <th>10</th>\n",
       "      <td>33.774349</td>\n",
       "      <td>-84.394956</td>\n",
       "      <td>crossland2</td>\n",
       "      <td>0</td>\n",
       "      <td>Crossland 2</td>\n",
       "      <td>crimson</td>\n",
       "      <td>404.767537</td>\n",
       "    </tr>\n",
       "    <tr>\n",
       "      <th>11</th>\n",
       "      <td>33.774029</td>\n",
       "      <td>-84.394975</td>\n",
       "      <td>crossland3</td>\n",
       "      <td>0</td>\n",
       "      <td>Crossland 3</td>\n",
       "      <td>crimson</td>\n",
       "      <td>397.083760</td>\n",
       "    </tr>\n",
       "    <tr>\n",
       "      <th>12</th>\n",
       "      <td>33.774034</td>\n",
       "      <td>-84.395363</td>\n",
       "      <td>crossland4</td>\n",
       "      <td>0</td>\n",
       "      <td>Crossland 4</td>\n",
       "      <td>crimson</td>\n",
       "      <td>395.697439</td>\n",
       "    </tr>\n",
       "  </tbody>\n",
       "</table>\n",
       "</div>"
      ],
      "text/plain": [
       "            y          x         tag  level                            desc  \\\n",
       "0   33.775231 -84.396620       culc0      0                   CULC Entrance   \n",
       "1   33.775146 -84.396161       culc1      0                       CULC Back   \n",
       "2   33.774515 -84.396166       culc2      0          CULC Library Connector   \n",
       "3   33.774206 -84.396171       culc3      0          CULC Library Connector   \n",
       "4   33.774151 -84.396629       culc4      0             CULC Other Entrance   \n",
       "5   33.774510 -84.396068     prglib0      0    Price Gilbert Library Back 1   \n",
       "6   33.774502 -84.395481     prglib1      0    Price Gilbert Library Back 2   \n",
       "7   33.774198 -84.395479     prglib2      0  Price Gilbert Library Conector   \n",
       "8   33.774206 -84.396075     prglib3      0  Price Gilbert Library Conector   \n",
       "9   33.774352 -84.395360  crossland0      0                     Crossland 1   \n",
       "10  33.774349 -84.394956  crossland2      0                     Crossland 2   \n",
       "11  33.774029 -84.394975  crossland3      0                     Crossland 3   \n",
       "12  33.774034 -84.395363  crossland4      0                     Crossland 4   \n",
       "\n",
       "      color  normalized_angle  \n",
       "0     black         95.292736  \n",
       "1     black         78.639521  \n",
       "2   crimson         52.550267  \n",
       "3   crimson        397.587104  \n",
       "4   crimson        388.854638  \n",
       "5   crimson         51.764361  \n",
       "6   crimson         49.422400  \n",
       "7   crimson        400.100524  \n",
       "8   crimson        398.143252  \n",
       "9   crimson        404.825161  \n",
       "10  crimson        404.767537  \n",
       "11  crimson        397.083760  \n",
       "12  crimson        395.697439  "
      ]
     },
     "execution_count": 11,
     "metadata": {},
     "output_type": "execute_result"
    }
   ],
   "source": [
    "points"
   ]
  },
  {
   "cell_type": "code",
   "execution_count": 15,
   "id": "2698e25b",
   "metadata": {},
   "outputs": [
    {
     "data": {
      "text/plain": [
       "<AxesSubplot:xlabel='x'>"
      ]
     },
     "execution_count": 15,
     "metadata": {},
     "output_type": "execute_result"
    },
    {
     "data": {
      "image/png": "[encoded data removed]",
      "text/plain": [
       "<Figure size 432x288 with 1 Axes>"
      ]
     },
     "metadata": {
      "needs_background": "light"
     },
     "output_type": "display_data"
    }
   ],
   "source": [
    "points.plot('x', 'y')"
   ]
  },
  {
   "cell_type": "code",
   "execution_count": null,
   "id": "f78aaa50",
   "metadata": {},
   "outputs": [],
   "source": []
  }
 ],
 "metadata": {
  "kernelspec": {
   "display_name": "Python 3 (ipykernel)",
   "language": "python",
   "name": "python3"
  },
  "language_info": {
   "codemirror_mode": {
    "name": "ipython",
    "version": 3
   },
   "file_extension": ".py",
   "mimetype": "text/x-python",
   "name": "python",
   "nbconvert_exporter": "python",
   "pygments_lexer": "ipython3",
   "version": "3.10.0"
  }
 },
 "nbformat": 4,
 "nbformat_minor": 5
}
