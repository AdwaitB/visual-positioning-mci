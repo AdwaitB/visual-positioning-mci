{
 "cells": [
  {
   "cell_type": "code",
   "execution_count": 1,
   "id": "45427caf",
   "metadata": {},
   "outputs": [],
   "source": [
    "import random as rd\n",
    "import numpy as np\n",
    "import pandas as pd\n",
    "import matplotlib.pyplot as plt\n",
    "import matplotlib.collections as mc"
   ]
  },
  {
   "cell_type": "code",
   "execution_count": 2,
   "id": "0b9e7e14",
   "metadata": {},
   "outputs": [],
   "source": [
    "SEED = 1\n",
    "rd.seed(SEED)"
   ]
  },
  {
   "cell_type": "code",
   "execution_count": 3,
   "id": "d54662c8",
   "metadata": {},
   "outputs": [],
   "source": [
    "def generate_data(count):\n",
    "    x = []\n",
    "    y = []\n",
    "\n",
    "    for i in range(0, count):\n",
    "        x.append(rd.randrange(1000)/100.0)\n",
    "        y.append(rd.randrange(1000)/100.0)\n",
    "\n",
    "    return pd.DataFrame({'x': x, 'y': y})"
   ]
  },
  {
   "cell_type": "code",
   "execution_count": 4,
   "id": "57707e75",
   "metadata": {},
   "outputs": [
    {
     "data": {
      "text/html": [
       "<div>\n",
       "<style scoped>\n",
       "    .dataframe tbody tr th:only-of-type {\n",
       "        vertical-align: middle;\n",
       "    }\n",
       "\n",
       "    .dataframe tbody tr th {\n",
       "        vertical-align: top;\n",
       "    }\n",
       "\n",
       "    .dataframe thead th {\n",
       "        text-align: right;\n",
       "    }\n",
       "</style>\n",
       "<table border=\"1\" class=\"dataframe\">\n",
       "  <thead>\n",
       "    <tr style=\"text-align: right;\">\n",
       "      <th></th>\n",
       "      <th>x</th>\n",
       "      <th>y</th>\n",
       "    </tr>\n",
       "  </thead>\n",
       "  <tbody>\n",
       "    <tr>\n",
       "      <th>0</th>\n",
       "      <td>1.37</td>\n",
       "      <td>5.82</td>\n",
       "    </tr>\n",
       "    <tr>\n",
       "      <th>1</th>\n",
       "      <td>8.67</td>\n",
       "      <td>8.21</td>\n",
       "    </tr>\n",
       "    <tr>\n",
       "      <th>2</th>\n",
       "      <td>7.82</td>\n",
       "      <td>0.64</td>\n",
       "    </tr>\n",
       "    <tr>\n",
       "      <th>3</th>\n",
       "      <td>2.61</td>\n",
       "      <td>1.20</td>\n",
       "    </tr>\n",
       "    <tr>\n",
       "      <th>4</th>\n",
       "      <td>5.07</td>\n",
       "      <td>7.79</td>\n",
       "    </tr>\n",
       "    <tr>\n",
       "      <th>5</th>\n",
       "      <td>4.60</td>\n",
       "      <td>4.83</td>\n",
       "    </tr>\n",
       "    <tr>\n",
       "      <th>6</th>\n",
       "      <td>6.67</td>\n",
       "      <td>3.88</td>\n",
       "    </tr>\n",
       "    <tr>\n",
       "      <th>7</th>\n",
       "      <td>8.07</td>\n",
       "      <td>2.14</td>\n",
       "    </tr>\n",
       "    <tr>\n",
       "      <th>8</th>\n",
       "      <td>0.96</td>\n",
       "      <td>4.99</td>\n",
       "    </tr>\n",
       "    <tr>\n",
       "      <th>9</th>\n",
       "      <td>0.29</td>\n",
       "      <td>9.14</td>\n",
       "    </tr>\n",
       "  </tbody>\n",
       "</table>\n",
       "</div>"
      ],
      "text/plain": [
       "      x     y\n",
       "0  1.37  5.82\n",
       "1  8.67  8.21\n",
       "2  7.82  0.64\n",
       "3  2.61  1.20\n",
       "4  5.07  7.79\n",
       "5  4.60  4.83\n",
       "6  6.67  3.88\n",
       "7  8.07  2.14\n",
       "8  0.96  4.99\n",
       "9  0.29  9.14"
      ]
     },
     "execution_count": 4,
     "metadata": {},
     "output_type": "execute_result"
    },
    {
     "data": {
      "image/png": "[encoded data removed]",
      "text/plain": [
       "<Figure size 432x288 with 1 Axes>"
      ]
     },
     "metadata": {
      "needs_background": "light"
     },
     "output_type": "display_data"
    }
   ],
   "source": [
    "npoints = 10\n",
    "\n",
    "points = generate_data(npoints)\n",
    "plt.scatter(points['x'], points['y'], c='r')\n",
    "plt.grid(True)\n",
    "points"
   ]
  },
  {
   "cell_type": "code",
   "execution_count": 5,
   "id": "754aa920",
   "metadata": {},
   "outputs": [],
   "source": [
    "points.to_csv(\"points.csv\")"
   ]
  },
  {
   "cell_type": "code",
   "execution_count": 6,
   "id": "8ecd5a6a",
   "metadata": {},
   "outputs": [
    {
     "data": {
      "text/html": [
       "<div>\n",
       "<style scoped>\n",
       "    .dataframe tbody tr th:only-of-type {\n",
       "        vertical-align: middle;\n",
       "    }\n",
       "\n",
       "    .dataframe tbody tr th {\n",
       "        vertical-align: top;\n",
       "    }\n",
       "\n",
       "    .dataframe thead th {\n",
       "        text-align: right;\n",
       "    }\n",
       "</style>\n",
       "<table border=\"1\" class=\"dataframe\">\n",
       "  <thead>\n",
       "    <tr style=\"text-align: right;\">\n",
       "      <th></th>\n",
       "      <th>x</th>\n",
       "      <th>y</th>\n",
       "    </tr>\n",
       "  </thead>\n",
       "  <tbody>\n",
       "    <tr>\n",
       "      <th>0</th>\n",
       "      <td>1.37</td>\n",
       "      <td>5.82</td>\n",
       "    </tr>\n",
       "    <tr>\n",
       "      <th>1</th>\n",
       "      <td>8.67</td>\n",
       "      <td>8.21</td>\n",
       "    </tr>\n",
       "    <tr>\n",
       "      <th>2</th>\n",
       "      <td>7.82</td>\n",
       "      <td>0.64</td>\n",
       "    </tr>\n",
       "    <tr>\n",
       "      <th>3</th>\n",
       "      <td>2.61</td>\n",
       "      <td>1.20</td>\n",
       "    </tr>\n",
       "    <tr>\n",
       "      <th>4</th>\n",
       "      <td>5.07</td>\n",
       "      <td>7.79</td>\n",
       "    </tr>\n",
       "    <tr>\n",
       "      <th>5</th>\n",
       "      <td>4.60</td>\n",
       "      <td>4.83</td>\n",
       "    </tr>\n",
       "    <tr>\n",
       "      <th>6</th>\n",
       "      <td>6.67</td>\n",
       "      <td>3.88</td>\n",
       "    </tr>\n",
       "    <tr>\n",
       "      <th>7</th>\n",
       "      <td>8.07</td>\n",
       "      <td>2.14</td>\n",
       "    </tr>\n",
       "    <tr>\n",
       "      <th>8</th>\n",
       "      <td>0.96</td>\n",
       "      <td>4.99</td>\n",
       "    </tr>\n",
       "    <tr>\n",
       "      <th>9</th>\n",
       "      <td>0.29</td>\n",
       "      <td>9.14</td>\n",
       "    </tr>\n",
       "  </tbody>\n",
       "</table>\n",
       "</div>"
      ],
      "text/plain": [
       "      x     y\n",
       "0  1.37  5.82\n",
       "1  8.67  8.21\n",
       "2  7.82  0.64\n",
       "3  2.61  1.20\n",
       "4  5.07  7.79\n",
       "5  4.60  4.83\n",
       "6  6.67  3.88\n",
       "7  8.07  2.14\n",
       "8  0.96  4.99\n",
       "9  0.29  9.14"
      ]
     },
     "execution_count": 6,
     "metadata": {},
     "output_type": "execute_result"
    }
   ],
   "source": [
    "points = pd.read_csv(\"points.csv\", index_col=0)\n",
    "points"
   ]
  },
  {
   "cell_type": "code",
   "execution_count": 7,
   "id": "6d99b9b8",
   "metadata": {},
   "outputs": [],
   "source": [
    "def get_edge_ids():\n",
    "    if SEED == 1:\n",
    "        return pd.DataFrame({\n",
    "            'start':[0, 0, 4, 4, 6, 6, 2, 2],\n",
    "            'end'  :[9, 8, 5, 1, 5, 1, 3, 7]\n",
    "        })\n",
    "\n",
    "edgeIds = get_edge_ids()"
   ]
  },
  {
   "cell_type": "code",
   "execution_count": 8,
   "id": "83352e42",
   "metadata": {},
   "outputs": [],
   "source": [
    "def generate_edge_point(i, j):\n",
    "    return [\n",
    "        [points['x'][i], points['x'][j]],\n",
    "        [points['y'][i], points['y'][j]]\n",
    "    ]"
   ]
  },
  {
   "cell_type": "code",
   "execution_count": 9,
   "id": "3d0bc641",
   "metadata": {},
   "outputs": [
    {
     "name": "stdout",
     "output_type": "stream",
     "text": [
      "[[1.37, 0.29], [5.82, 9.14]]\n",
      "[[1.37, 0.96], [5.82, 4.99]]\n",
      "[[5.07, 4.6], [7.79, 4.83]]\n",
      "[[5.07, 8.67], [7.79, 8.21]]\n",
      "[[6.67, 4.6], [3.88, 4.83]]\n",
      "[[6.67, 8.67], [3.88, 8.21]]\n",
      "[[7.82, 2.61], [0.64, 1.2]]\n",
      "[[7.82, 8.07], [0.64, 2.14]]\n"
     ]
    },
    {
     "data": {
      "image/png": "[encoded data removed]",
      "text/plain": [
       "<Figure size 432x288 with 1 Axes>"
      ]
     },
     "metadata": {
      "needs_background": "light"
     },
     "output_type": "display_data"
    }
   ],
   "source": [
    "plt.rcParams[\"figure.autolayout\"] = True\n",
    "\n",
    "for index, edge_id in edgeIds.iterrows():\n",
    "    edge_point = generate_edge_point(edge_id[0], edge_id[1])\n",
    "    plt.plot(\n",
    "        edge_point[0], edge_point[1], \n",
    "        linestyle=\"--\", c='lightblue'\n",
    "    )\n",
    "\n",
    "for index, row in points.iterrows():\n",
    "    plt.scatter(row['x'], row['y'], c='g')\n",
    "    plt.text(row['x'] + 0.1, row['y'] + 0.1, index)\n",
    "\n",
    "plt.grid(True)\n",
    "plt.show()"
   ]
  },
  {
   "cell_type": "code",
   "execution_count": 10,
   "id": "73c28f8a",
   "metadata": {},
   "outputs": [],
   "source": [
    "x, y = [3, 3]\n",
    "mag = [0.5, 0.5]"
   ]
  },
  {
   "cell_type": "code",
   "execution_count": null,
   "id": "4378c3fa",
   "metadata": {},
   "outputs": [],
   "source": []
  }
 ],
 "metadata": {
  "kernelspec": {
   "display_name": "Python 3 (ipykernel)",
   "language": "python",
   "name": "python3"
  },
  "language_info": {
   "codemirror_mode": {
    "name": "ipython",
    "version": 3
   },
   "file_extension": ".py",
   "mimetype": "text/x-python",
   "name": "python",
   "nbconvert_exporter": "python",
   "pygments_lexer": "ipython3",
   "version": "3.10.0"
  }
 },
 "nbformat": 4,
 "nbformat_minor": 5
}
