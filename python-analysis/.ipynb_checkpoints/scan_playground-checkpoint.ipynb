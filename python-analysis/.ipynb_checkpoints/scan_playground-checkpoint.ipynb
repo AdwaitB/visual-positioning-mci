{
 "cells": [
  {
   "cell_type": "code",
   "execution_count": 1,
   "id": "9bcc6b21",
   "metadata": {},
   "outputs": [
    {
     "ename": "ModuleNotFoundError",
     "evalue": "No module named 'dbutils'",
     "output_type": "error",
     "traceback": [
      "\u001b[0;31m---------------------------------------------------------------------------\u001b[0m",
      "\u001b[0;31mModuleNotFoundError\u001b[0m                       Traceback (most recent call last)",
      "\u001b[0;32m/var/folders/38/w1lm4s6j7ms3fmlvnd39zybc0000gn/T/ipykernel_26568/1843435214.py\u001b[0m in \u001b[0;36m<module>\u001b[0;34m\u001b[0m\n\u001b[1;32m     13\u001b[0m \u001b[0;32mfrom\u001b[0m \u001b[0mconfig\u001b[0m \u001b[0;32mimport\u001b[0m \u001b[0;34m*\u001b[0m\u001b[0;34m\u001b[0m\u001b[0;34m\u001b[0m\u001b[0m\n\u001b[1;32m     14\u001b[0m \u001b[0;32mfrom\u001b[0m \u001b[0mgenerator\u001b[0m \u001b[0;32mimport\u001b[0m \u001b[0;34m*\u001b[0m\u001b[0;34m\u001b[0m\u001b[0;34m\u001b[0m\u001b[0m\n\u001b[0;32m---> 15\u001b[0;31m \u001b[0;32mfrom\u001b[0m \u001b[0mdbutils\u001b[0m \u001b[0;32mimport\u001b[0m \u001b[0;34m*\u001b[0m\u001b[0;34m\u001b[0m\u001b[0;34m\u001b[0m\u001b[0m\n\u001b[0m\u001b[1;32m     16\u001b[0m \u001b[0;32mfrom\u001b[0m \u001b[0mscanner\u001b[0m \u001b[0;32mimport\u001b[0m \u001b[0;34m*\u001b[0m\u001b[0;34m\u001b[0m\u001b[0;34m\u001b[0m\u001b[0m\n\u001b[1;32m     17\u001b[0m \u001b[0;32mfrom\u001b[0m \u001b[0mmisc_utils\u001b[0m \u001b[0;32mimport\u001b[0m \u001b[0;34m*\u001b[0m\u001b[0;34m\u001b[0m\u001b[0;34m\u001b[0m\u001b[0m\n",
      "\u001b[0;31mModuleNotFoundError\u001b[0m: No module named 'dbutils'"
     ]
    }
   ],
   "source": [
    "import math\n",
    "\n",
    "import numpy as np\n",
    "import pandas as pd\n",
    "\n",
    "import matplotlib.pyplot as plt\n",
    "import matplotlib.collections as mc\n",
    "\n",
    "from pprint import pprint\n",
    "\n",
    "from plot import *\n",
    "from building import *\n",
    "from config import *\n",
    "from generator import *\n",
    "from db_utils import *\n",
    "from scanner import *\n",
    "from misc_utils import *"
   ]
  },
  {
   "cell_type": "markdown",
   "id": "20404c1b",
   "metadata": {},
   "source": [
    "### Assumptions\n",
    "\n",
    "1. Every edge for every building is divided into subparts if the length is very large. For example, a stadium's edge even though it is straight, will be divided into multiple edges to make sure the edge is detected in the scanner. This is required as the scanner's range is restricted. Doing this has no performance hit as the bottleneck is the number of features in edge, so the splitting has no performance hit on ***this*** algorithm.\n",
    "2. Buildings are convex. If not, split the building into convex parts and the overlapping edges with no feature points\n",
    "\n",
    "### Algorithm\n",
    "\n",
    "- Tag all nodes, edges based on FOV\n",
    "- Find all the buildings that are there in the given FOV\n",
    "    - A building is visible if either the edge is tagged in FOV or the vertex is tagged in FOV\n",
    "- For all buildings get the frontier set of edges based on the ORIGIN\n",
    "- Valid edges are current all edges that are tagged in FOV as well as in the frontier.\n",
    "- Remove edges from this set that are overshadowed\n",
    "- Calculate the effective scope of each building\n",
    "- For every building scope, remove edges that are overshadowed by this scope"
   ]
  },
  {
   "cell_type": "code",
   "execution_count": null,
   "id": "5a6515c6",
   "metadata": {
    "scrolled": false
   },
   "outputs": [],
   "source": [
    "if ORIGINAL_DATA:\n",
    "    points = read_points()\n",
    "    edges = read_edges(points)\n",
    "else:\n",
    "    points = generate_data(NPOINTS)\n",
    "    edges = get_edges()\n",
    "\n",
    "print_util(points, \"points\")\n",
    "print_util(edges, \"edges\")\n",
    "\n",
    "edges_mat = get_adj_mat(points, edges)\n",
    "print_util(edges_mat, \"edges_mat\")\n",
    "\n",
    "edges_list = get_adj_list(points, edges)\n",
    "print_util(edges_list, \"edges_list\")"
   ]
  },
  {
   "cell_type": "code",
   "execution_count": null,
   "id": "e87a56e0",
   "metadata": {},
   "outputs": [],
   "source": [
    "base_angle = get_angle(DIRECTION)\n",
    "\n",
    "viewpoint = add_vector_to_point(ORIGIN, DIRECTION, RADIUS)\n",
    "\n",
    "viewpoint_begin = rotate_point(viewpoint, ORIGIN, FOV/2)\n",
    "viewpoint_end = rotate_point(viewpoint, ORIGIN, -FOV/2)\n",
    "\n",
    "axis_xp = rotate_point(viewpoint, ORIGIN, -90)\n",
    "axis_xn = rotate_point(viewpoint, ORIGIN, 90)\n",
    "\n",
    "print(\"base_angle \", base_angle)\n",
    "print(\"viewpoint \", viewpoint)\n",
    "print(\"viewpoint_begin \", viewpoint_begin)\n",
    "print(\"viewpoint_end \", viewpoint_end)\n",
    "print(\"axis_xp \", axis_xp)\n",
    "print(\"axis_xn \", axis_xn)"
   ]
  },
  {
   "cell_type": "code",
   "execution_count": null,
   "id": "129236d7",
   "metadata": {},
   "outputs": [],
   "source": [
    "tag_points_fov(points)\n",
    "print_util(points, \"points\")"
   ]
  },
  {
   "cell_type": "code",
   "execution_count": null,
   "id": "371a484c",
   "metadata": {},
   "outputs": [],
   "source": [
    "tag_edges_fov(points, edges)\n",
    "print_util(edges)"
   ]
  },
  {
   "cell_type": "code",
   "execution_count": null,
   "id": "396621d3",
   "metadata": {},
   "outputs": [],
   "source": [
    "id_to_build_map, buildings = get_building_set(points, edges_list)\n",
    "print_util(id_to_build_map, \"id_to_build_map\")\n",
    "print_util(buildings, \"buildings\")"
   ]
  },
  {
   "cell_type": "code",
   "execution_count": null,
   "id": "99a0f6d8",
   "metadata": {
    "scrolled": false
   },
   "outputs": [],
   "source": [
    "spans = get_spans(points, edges, edges_list, buildings)\n",
    "print_util(spans, \"spans\")"
   ]
  },
  {
   "cell_type": "code",
   "execution_count": null,
   "id": "c2bc924e",
   "metadata": {},
   "outputs": [],
   "source": [
    "remove_overshadowing_edges(points, edges)\n",
    "print_util(edges, \"edges after overshadow filter\")"
   ]
  },
  {
   "cell_type": "code",
   "execution_count": null,
   "id": "24a5e7a5",
   "metadata": {},
   "outputs": [],
   "source": [
    "remove_overshadowing_edges_spans(points, edges, spans)\n",
    "print_util(edges, \"edges after spanned overshadow filter\")"
   ]
  },
  {
   "cell_type": "code",
   "execution_count": null,
   "id": "b534ebf4",
   "metadata": {},
   "outputs": [],
   "source": [
    "plot_situation(points, edges, viewpoint, viewpoint_begin, viewpoint_end, axis_xp, axis_xn)"
   ]
  },
  {
   "cell_type": "code",
   "execution_count": null,
   "id": "512044d5",
   "metadata": {},
   "outputs": [],
   "source": [
    "points"
   ]
  },
  {
   "cell_type": "code",
   "execution_count": null,
   "id": "e2085cdd",
   "metadata": {},
   "outputs": [],
   "source": [
    "edges"
   ]
  },
  {
   "cell_type": "code",
   "execution_count": null,
   "id": "69c7a21a",
   "metadata": {},
   "outputs": [],
   "source": []
  }
 ],
 "metadata": {
  "kernelspec": {
   "display_name": "Python 3 (ipykernel)",
   "language": "python",
   "name": "python3"
  },
  "language_info": {
   "codemirror_mode": {
    "name": "ipython",
    "version": 3
   },
   "file_extension": ".py",
   "mimetype": "text/x-python",
   "name": "python",
   "nbconvert_exporter": "python",
   "pygments_lexer": "ipython3",
   "version": "3.10.0"
  }
 },
 "nbformat": 4,
 "nbformat_minor": 5
}
