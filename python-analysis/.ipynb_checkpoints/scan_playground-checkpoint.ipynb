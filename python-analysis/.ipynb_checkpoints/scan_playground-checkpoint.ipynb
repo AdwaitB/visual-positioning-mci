{
 "cells": [
  {
   "cell_type": "code",
   "execution_count": 1,
   "id": "9bcc6b21",
   "metadata": {},
   "outputs": [],
   "source": [
    "import math\n",
    "\n",
    "import numpy as np\n",
    "import pandas as pd\n",
    "\n",
    "import matplotlib.pyplot as plt\n",
    "import matplotlib.collections as mc\n",
    "\n",
    "from pprint import pprint\n",
    "\n",
    "from plot import *\n",
    "from building import *\n",
    "from config import *\n",
    "from generator import *\n",
    "from dbutils import *\n",
    "from scanner import *\n",
    "from misc_utils import *"
   ]
  },
  {
   "cell_type": "markdown",
   "id": "a671f459",
   "metadata": {},
   "source": [
    "### Assumptions\n",
    "\n",
    "1. Every edge for every building is divided into subparts if the length is very large. For example, a stadium's edge even though it is straight, will be divided into multiple edges to make sure the edge is detected in the scanner. This is required as the scanner's range is restricted. Doing this has no performance hit as the bottleneck is the number of features in edge, so the splitting has no performance hit on ***this*** algorithm.\n",
    "2. Buildings are convex. If not, split the building into convex parts and the overlapping edges with no feature points\n",
    "\n",
    "### Algorithm\n",
    "\n",
    "- Tag all nodes, edges based on FOV\n",
    "- Find all the buildings that are there in the given FOV\n",
    "    - A building is visible if either the edge is tagged in FOV or the vertex is tagged in FOV\n",
    "- For all buildings get the frontier set of edges based on the ORIGIN\n",
    "- Valid edges are current all edges that are tagged in FOV as well as in the frontier.\n",
    "- Remove edges from this set that are overshadowed\n",
    "- Calculate the effective scope of each building\n",
    "- For every building scope, remove edges that are overshadowed by this scope"
   ]
  },
  {
   "cell_type": "code",
   "execution_count": 2,
   "id": "248bbaf4",
   "metadata": {},
   "outputs": [
    {
     "name": "stdout",
     "output_type": "stream",
     "text": [
      "points\n",
      "      x     y      color\n",
      "0  1.37  5.82  lightblue\n",
      "1  8.67  8.21  lightblue\n",
      "2  7.82  0.64  lightblue\n",
      "3  2.61  1.20  lightblue\n",
      "4  5.07  7.79  lightblue\n",
      "5  4.60  4.83  lightblue\n",
      "6  6.67  3.88  lightblue\n",
      "7  8.07  2.14  lightblue\n",
      "8  0.96  4.99  lightblue\n",
      "9  0.29  9.14  lightblue\n",
      "\n",
      "edges\n",
      "   start  end      color\n",
      "0      0    9  lightblue\n",
      "1      0    8  lightblue\n",
      "2      4    5  lightblue\n",
      "3      4    1  lightblue\n",
      "4      6    5  lightblue\n",
      "5      6    1  lightblue\n",
      "6      2    3  lightblue\n",
      "7      2    7  lightblue\n",
      "\n",
      "edges_mat\n",
      "[[-1, -1, -1, -1, -1, -1, -1, -1, 1, 0],\n",
      " [-1, -1, -1, -1, 3, -1, 5, -1, -1, -1],\n",
      " [-1, -1, -1, 6, -1, -1, -1, 7, -1, -1],\n",
      " [-1, -1, 6, -1, -1, -1, -1, -1, -1, -1],\n",
      " [-1, 3, -1, -1, -1, 2, -1, -1, -1, -1],\n",
      " [-1, -1, -1, -1, 2, -1, 4, -1, -1, -1],\n",
      " [-1, 5, -1, -1, -1, 4, -1, -1, -1, -1],\n",
      " [-1, -1, 7, -1, -1, -1, -1, -1, -1, -1],\n",
      " [1, -1, -1, -1, -1, -1, -1, -1, -1, -1],\n",
      " [0, -1, -1, -1, -1, -1, -1, -1, -1, -1]]\n",
      "\n",
      "edges_list\n",
      "[[[9, 0], [8, 1]],\n",
      " [[4, 3], [6, 5]],\n",
      " [[3, 6], [7, 7]],\n",
      " [[2, 6]],\n",
      " [[5, 2], [1, 3]],\n",
      " [[4, 2], [6, 4]],\n",
      " [[5, 4], [1, 5]],\n",
      " [[2, 7]],\n",
      " [[0, 1]],\n",
      " [[0, 0]]]\n",
      "\n"
     ]
    }
   ],
   "source": [
    "points = generate_data(NPOINTS)\n",
    "print_util(points, \"points\")\n",
    "\n",
    "edges = get_edges()\n",
    "print_util(edges, \"edges\")\n",
    "\n",
    "edges_mat = get_adj_mat(points, edges)\n",
    "print_util(edges_mat, \"edges_mat\")\n",
    "\n",
    "edges_list = get_adj_list(points, edges)\n",
    "print_util(edges_list, \"edges_list\")"
   ]
  },
  {
   "cell_type": "code",
   "execution_count": 3,
   "id": "34ba7b67",
   "metadata": {},
   "outputs": [
    {
     "name": "stdout",
     "output_type": "stream",
     "text": [
      "base_angle  45.00000000000001\n",
      "viewpoint  [4.596194077712559, 6.596194077712559]\n",
      "viewpoint_begin  [1.1287131548350477, 8.401250394579352]\n",
      "viewpoint_end  [6.4012503945793515, 3.1287131548350477]\n",
      "axis_xp  [4.596194077712559, -2.5961940777125587]\n",
      "axis_xn  [-4.596194077712559, 6.596194077712559]\n"
     ]
    }
   ],
   "source": [
    "base_angle = get_angle(DIRECTION)\n",
    "\n",
    "viewpoint = add_vector_to_point(ORIGIN, DIRECTION, RADIUS)\n",
    "\n",
    "viewpoint_begin = rotate_point(viewpoint, ORIGIN, FOV/2)\n",
    "viewpoint_end = rotate_point(viewpoint, ORIGIN, -FOV/2)\n",
    "\n",
    "axis_xp = rotate_point(viewpoint, ORIGIN, -90)\n",
    "axis_xn = rotate_point(viewpoint, ORIGIN, 90)\n",
    "\n",
    "print(\"base_angle \", base_angle)\n",
    "print(\"viewpoint \", viewpoint)\n",
    "print(\"viewpoint_begin \", viewpoint_begin)\n",
    "print(\"viewpoint_end \", viewpoint_end)\n",
    "print(\"axis_xp \", axis_xp)\n",
    "print(\"axis_xn \", axis_xn)"
   ]
  },
  {
   "cell_type": "code",
   "execution_count": 4,
   "id": "ff9cac89",
   "metadata": {},
   "outputs": [
    {
     "name": "stdout",
     "output_type": "stream",
     "text": [
      "points\n",
      "      x     y      color  normalized_angle\n",
      "0  1.37  5.82      black        115.270199\n",
      "1  8.67  8.21  lightblue         80.612623\n",
      "2  7.82  0.64  lightblue        395.134193\n",
      "3  2.61  1.20    crimson        387.958996\n",
      "4  5.07  7.79  lightblue         93.793064\n",
      "5  4.60  4.83      black         76.600552\n",
      "6  6.67  3.88  lightblue         60.740972\n",
      "7  8.07  2.14  lightblue         45.993879\n",
      "8  0.96  4.99      black        117.199722\n",
      "9  0.29  9.14  lightblue        132.674139\n",
      "\n"
     ]
    }
   ],
   "source": [
    "tag_points_fov(points)\n",
    "print_util(points, \"points\")"
   ]
  },
  {
   "cell_type": "code",
   "execution_count": 5,
   "id": "312ece8e",
   "metadata": {},
   "outputs": [
    {
     "name": "stdout",
     "output_type": "stream",
     "text": [
      "   start  end      color\n",
      "0      0    9      black\n",
      "1      0    8      black\n",
      "2      4    5      black\n",
      "3      4    1  lightblue\n",
      "4      6    5      black\n",
      "5      6    1  lightblue\n",
      "6      2    3  lightblue\n",
      "7      2    7  lightblue\n",
      "\n"
     ]
    }
   ],
   "source": [
    "tag_edges_fov(points, edges)\n",
    "print_util(edges)"
   ]
  },
  {
   "cell_type": "code",
   "execution_count": 6,
   "id": "242ec411",
   "metadata": {},
   "outputs": [
    {
     "name": "stdout",
     "output_type": "stream",
     "text": [
      "id_to_build_map\n",
      "{0: 0, 1: 2, 2: 1, 3: 1, 4: 2, 5: 2, 6: 2, 7: 1, 8: 0, 9: 0}\n",
      "\n",
      "buildings\n",
      "{0: [0, 9, 8], 1: [3, 2, 7], 2: [5, 4, 6, 1]}\n",
      "\n"
     ]
    }
   ],
   "source": [
    "id_to_build_map, buildings = get_building_set(points, edges_list)\n",
    "print_util(id_to_build_map, \"id_to_build_map\")\n",
    "print_util(buildings, \"buildings\")"
   ]
  },
  {
   "cell_type": "code",
   "execution_count": 7,
   "id": "bfdf207e",
   "metadata": {},
   "outputs": [
    {
     "name": "stdout",
     "output_type": "stream",
     "text": [
      "[[3.14033437710063, 117.19972166716781, 8, 0.96, 4.99],\n",
      " [4.058238534142615, 115.27019948455504, 0, 1.37, 5.82],\n",
      " [7.145886928856347, 132.674138908918, 9, 0.29, 9.14]]\n",
      "\n",
      "[[2.7298534759213724, 387.9589955204148, 3, 2.61, 1.2],\n",
      " [7.937379920351552, 395.1341930569156, 2, 7.82, 0.64],\n",
      " [8.07121428286971, 45.99387912873976, 7, 8.07, 2.14]]\n",
      "\n",
      "[[5.400824011204216, 76.60055224876805, 5, 4.6, 4.83],\n",
      " [6.929884558923042, 60.74097178693375, 6, 6.67, 3.88],\n",
      " [7.6960379416944145, 93.79306428168863, 4, 5.07, 7.79],\n",
      " [10.664567501778963, 80.61262317697869, 1, 8.67, 8.21]]\n",
      "\n",
      "{0: [0, 9], 1: [7, 2], 2: [6, 4]}\n",
      "\n"
     ]
    }
   ],
   "source": [
    "spans = get_spans(points, edges, edges_list, buildings)\n",
    "print_util(spans)"
   ]
  },
  {
   "cell_type": "code",
   "execution_count": 8,
   "id": "e893dd1f",
   "metadata": {},
   "outputs": [
    {
     "name": "stdout",
     "output_type": "stream",
     "text": [
      "   start  end      color\n",
      "0      0    9      black\n",
      "1      0    8      black\n",
      "2      4    5      black\n",
      "3      4    1  lightblue\n",
      "4      6    5      black\n",
      "5      6    1  lightblue\n",
      "6      2    3  lightblue\n",
      "7      2    7  lightblue\n",
      "\n"
     ]
    }
   ],
   "source": [
    "remove_overshadowing_edges(points, edges)\n",
    "print_util(edges)"
   ]
  },
  {
   "cell_type": "code",
   "execution_count": 9,
   "id": "355eba79",
   "metadata": {},
   "outputs": [
    {
     "ename": "NameError",
     "evalue": "name 'remove_overshadowing_edge_spans' is not defined",
     "output_type": "error",
     "traceback": [
      "\u001b[0;31m---------------------------------------------------------------------------\u001b[0m",
      "\u001b[0;31mNameError\u001b[0m                                 Traceback (most recent call last)",
      "\u001b[0;32m/var/folders/38/w1lm4s6j7ms3fmlvnd39zybc0000gn/T/ipykernel_16188/1130653375.py\u001b[0m in \u001b[0;36m<module>\u001b[0;34m\u001b[0m\n\u001b[0;32m----> 1\u001b[0;31m \u001b[0mremove_overshadowing_edge_spans\u001b[0m\u001b[0;34m(\u001b[0m\u001b[0mpoints\u001b[0m\u001b[0;34m,\u001b[0m \u001b[0medges\u001b[0m\u001b[0;34m,\u001b[0m \u001b[0mspans\u001b[0m\u001b[0;34m)\u001b[0m\u001b[0;34m\u001b[0m\u001b[0;34m\u001b[0m\u001b[0m\n\u001b[0m\u001b[1;32m      2\u001b[0m \u001b[0mprint_util\u001b[0m\u001b[0;34m(\u001b[0m\u001b[0medges\u001b[0m\u001b[0;34m)\u001b[0m\u001b[0;34m\u001b[0m\u001b[0;34m\u001b[0m\u001b[0m\n",
      "\u001b[0;31mNameError\u001b[0m: name 'remove_overshadowing_edge_spans' is not defined"
     ]
    }
   ],
   "source": [
    "remove_overshadowing_edges_spans(points, edges, spans)\n",
    "print_util(edges)"
   ]
  },
  {
   "cell_type": "code",
   "execution_count": null,
   "id": "b534ebf4",
   "metadata": {},
   "outputs": [],
   "source": [
    "plot_situation(points, edges, viewpoint, viewpoint_begin, viewpoint_end, axis_xp, axis_xn)"
   ]
  },
  {
   "cell_type": "code",
   "execution_count": null,
   "id": "e75063e9",
   "metadata": {},
   "outputs": [],
   "source": []
  }
 ],
 "metadata": {
  "kernelspec": {
   "display_name": "Python 3 (ipykernel)",
   "language": "python",
   "name": "python3"
  },
  "language_info": {
   "codemirror_mode": {
    "name": "ipython",
    "version": 3
   },
   "file_extension": ".py",
   "mimetype": "text/x-python",
   "name": "python",
   "nbconvert_exporter": "python",
   "pygments_lexer": "ipython3",
   "version": "3.10.0"
  }
 },
 "nbformat": 4,
 "nbformat_minor": 5
}
