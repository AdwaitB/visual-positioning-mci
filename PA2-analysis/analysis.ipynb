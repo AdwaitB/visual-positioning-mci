{
 "cells": [
  {
   "cell_type": "markdown",
   "id": "4a63dacf",
   "metadata": {},
   "source": [
    "## Imports"
   ]
  },
  {
   "cell_type": "code",
   "execution_count": 15,
   "id": "dfe80947",
   "metadata": {
    "scrolled": false
   },
   "outputs": [],
   "source": [
    "import pandas as pd\n",
    "import matplotlib as mp\n",
    "import matplotlib.pyplot as plt\n",
    "import numpy as np\n",
    "import math\n",
    "\n",
    "%matplotlib widget"
   ]
  },
  {
   "cell_type": "markdown",
   "id": "e7dd1809",
   "metadata": {},
   "source": [
    "## Stage 1\n",
    "\n",
    "We have collected sensor data for the following sensors in this stage:\n",
    "1. Magnetometer\n",
    "2. Light\n",
    "3. Sound\n",
    "4. Wifi\n",
    "5. Gyroscope\n",
    "6. Accelerometer\n",
    "\n",
    "We chose to walk around an area in the college library. Our walk was around 45 metres and involved 4 straight corridors with 3 turns in total. The approximate time for one walk was 45 seconds.\n",
    "\n",
    "The relevant files corresponding to the readings can be seen in the Walk 1, Walk 2 and Walk 3 folders."
   ]
  },
  {
   "cell_type": "code",
   "execution_count": 28,
   "id": "b17196cb",
   "metadata": {
    "scrolled": false
   },
   "outputs": [],
   "source": [
    "def plot_stage_1(walk_number):\n",
    "#     BUCKET_SIZES = ['1','5','10','20','50']\n",
    "    BUCKET_SIZES = ['50']\n",
    "    df = \"\"\n",
    "    for bucket_size in BUCKET_SIZES:\n",
    "        df = pd.read_csv(\"Walk \" + walk_number + '/' + bucket_size + '_data.txt')\n",
    "        wifi_df = pd.read_csv(\"Walk \" + walk_number + '/' + 'wifi.txt')\n",
    "        df['Heading'] = np.arctan(df['mag_y'] / df['mag_x']) * 180 / 3.14\n",
    "        for i in range(len(df.index)):\n",
    "            if df['mag_x'][i] > 0 and df['mag_y'][i] > 0:\n",
    "                continue\n",
    "            if df['mag_x'][i] > 0 and df['mag_y'][i] < 0:\n",
    "                df['Heading'][i] += 360\n",
    "            if df['mag_x'][i] < 0 and df['mag_y'][i] > 0:\n",
    "                df['Heading'][i] += 180\n",
    "            if df['mag_x'][i] < 0 and df['mag_y'][i] < 0:\n",
    "                df['Heading'][i] += 180\n",
    "        df[['Timestamp','Heading']].plot(x='Timestamp')\n",
    "        df['GroundTruth'] = df['Heading']\n",
    "    \n",
    "    for i in range(len(df.index)):\n",
    "        if df['Timestamp'][i] < 12500:\n",
    "            df['GroundTruth'][i] = 100\n",
    "        elif df['Timestamp'][i] < 26000:\n",
    "            df['GroundTruth'][i] = 190\n",
    "        elif df['Timestamp'][i] < 34000:\n",
    "            df['GroundTruth'][i] = 280\n",
    "        else:\n",
    "            df['GroundTruth'][i] = 190\n",
    "    \n",
    "#     df[['Timestamp','GroundTruth']].plot(x='Timestamp', figsize=(8,8))\n",
    "\n",
    "\n",
    "    "
   ]
  },
  {
   "cell_type": "code",
   "execution_count": 29,
   "id": "027efa49",
   "metadata": {
    "scrolled": false
   },
   "outputs": [
    {
     "name": "stderr",
     "output_type": "stream",
     "text": [
      "<ipython-input-28-8efff43a2eed>:15: SettingWithCopyWarning: \n",
      "A value is trying to be set on a copy of a slice from a DataFrame\n",
      "\n",
      "See the caveats in the documentation: https://pandas.pydata.org/pandas-docs/stable/user_guide/indexing.html#returning-a-view-versus-a-copy\n",
      "  df['Heading'][i] += 180\n",
      "<ipython-input-28-8efff43a2eed>:17: SettingWithCopyWarning: \n",
      "A value is trying to be set on a copy of a slice from a DataFrame\n",
      "\n",
      "See the caveats in the documentation: https://pandas.pydata.org/pandas-docs/stable/user_guide/indexing.html#returning-a-view-versus-a-copy\n",
      "  df['Heading'][i] += 180\n",
      "<ipython-input-28-8efff43a2eed>:13: SettingWithCopyWarning: \n",
      "A value is trying to be set on a copy of a slice from a DataFrame\n",
      "\n",
      "See the caveats in the documentation: https://pandas.pydata.org/pandas-docs/stable/user_guide/indexing.html#returning-a-view-versus-a-copy\n",
      "  df['Heading'][i] += 360\n"
     ]
    },
    {
     "data": {
      "application/vnd.jupyter.widget-view+json": {
       "model_id": "07caad1755394c63adb031078cee3209",
       "version_major": 2,
       "version_minor": 0
      },
      "text/plain": [
       "Canvas(toolbar=Toolbar(toolitems=[('Home', 'Reset original view', 'home', 'home'), ('Back', 'Back to previous …"
      ]
     },
     "metadata": {},
     "output_type": "display_data"
    },
    {
     "name": "stderr",
     "output_type": "stream",
     "text": [
      "<ipython-input-28-8efff43a2eed>:23: SettingWithCopyWarning: \n",
      "A value is trying to be set on a copy of a slice from a DataFrame\n",
      "\n",
      "See the caveats in the documentation: https://pandas.pydata.org/pandas-docs/stable/user_guide/indexing.html#returning-a-view-versus-a-copy\n",
      "  df['GroundTruth'][i] = 100\n",
      "<ipython-input-28-8efff43a2eed>:25: SettingWithCopyWarning: \n",
      "A value is trying to be set on a copy of a slice from a DataFrame\n",
      "\n",
      "See the caveats in the documentation: https://pandas.pydata.org/pandas-docs/stable/user_guide/indexing.html#returning-a-view-versus-a-copy\n",
      "  df['GroundTruth'][i] = 190\n",
      "<ipython-input-28-8efff43a2eed>:27: SettingWithCopyWarning: \n",
      "A value is trying to be set on a copy of a slice from a DataFrame\n",
      "\n",
      "See the caveats in the documentation: https://pandas.pydata.org/pandas-docs/stable/user_guide/indexing.html#returning-a-view-versus-a-copy\n",
      "  df['GroundTruth'][i] = 280\n",
      "<ipython-input-28-8efff43a2eed>:29: SettingWithCopyWarning: \n",
      "A value is trying to be set on a copy of a slice from a DataFrame\n",
      "\n",
      "See the caveats in the documentation: https://pandas.pydata.org/pandas-docs/stable/user_guide/indexing.html#returning-a-view-versus-a-copy\n",
      "  df['GroundTruth'][i] = 190\n",
      "<ipython-input-28-8efff43a2eed>:15: SettingWithCopyWarning: \n",
      "A value is trying to be set on a copy of a slice from a DataFrame\n",
      "\n",
      "See the caveats in the documentation: https://pandas.pydata.org/pandas-docs/stable/user_guide/indexing.html#returning-a-view-versus-a-copy\n",
      "  df['Heading'][i] += 180\n",
      "<ipython-input-28-8efff43a2eed>:17: SettingWithCopyWarning: \n",
      "A value is trying to be set on a copy of a slice from a DataFrame\n",
      "\n",
      "See the caveats in the documentation: https://pandas.pydata.org/pandas-docs/stable/user_guide/indexing.html#returning-a-view-versus-a-copy\n",
      "  df['Heading'][i] += 180\n",
      "<ipython-input-28-8efff43a2eed>:13: SettingWithCopyWarning: \n",
      "A value is trying to be set on a copy of a slice from a DataFrame\n",
      "\n",
      "See the caveats in the documentation: https://pandas.pydata.org/pandas-docs/stable/user_guide/indexing.html#returning-a-view-versus-a-copy\n",
      "  df['Heading'][i] += 360\n"
     ]
    },
    {
     "data": {
      "application/vnd.jupyter.widget-view+json": {
       "model_id": "2e2ba68b8ba744b4947b32c17f6942ac",
       "version_major": 2,
       "version_minor": 0
      },
      "text/plain": [
       "Canvas(toolbar=Toolbar(toolitems=[('Home', 'Reset original view', 'home', 'home'), ('Back', 'Back to previous …"
      ]
     },
     "metadata": {},
     "output_type": "display_data"
    },
    {
     "name": "stderr",
     "output_type": "stream",
     "text": [
      "<ipython-input-28-8efff43a2eed>:23: SettingWithCopyWarning: \n",
      "A value is trying to be set on a copy of a slice from a DataFrame\n",
      "\n",
      "See the caveats in the documentation: https://pandas.pydata.org/pandas-docs/stable/user_guide/indexing.html#returning-a-view-versus-a-copy\n",
      "  df['GroundTruth'][i] = 100\n",
      "<ipython-input-28-8efff43a2eed>:25: SettingWithCopyWarning: \n",
      "A value is trying to be set on a copy of a slice from a DataFrame\n",
      "\n",
      "See the caveats in the documentation: https://pandas.pydata.org/pandas-docs/stable/user_guide/indexing.html#returning-a-view-versus-a-copy\n",
      "  df['GroundTruth'][i] = 190\n",
      "<ipython-input-28-8efff43a2eed>:27: SettingWithCopyWarning: \n",
      "A value is trying to be set on a copy of a slice from a DataFrame\n",
      "\n",
      "See the caveats in the documentation: https://pandas.pydata.org/pandas-docs/stable/user_guide/indexing.html#returning-a-view-versus-a-copy\n",
      "  df['GroundTruth'][i] = 280\n",
      "<ipython-input-28-8efff43a2eed>:29: SettingWithCopyWarning: \n",
      "A value is trying to be set on a copy of a slice from a DataFrame\n",
      "\n",
      "See the caveats in the documentation: https://pandas.pydata.org/pandas-docs/stable/user_guide/indexing.html#returning-a-view-versus-a-copy\n",
      "  df['GroundTruth'][i] = 190\n",
      "<ipython-input-28-8efff43a2eed>:15: SettingWithCopyWarning: \n",
      "A value is trying to be set on a copy of a slice from a DataFrame\n",
      "\n",
      "See the caveats in the documentation: https://pandas.pydata.org/pandas-docs/stable/user_guide/indexing.html#returning-a-view-versus-a-copy\n",
      "  df['Heading'][i] += 180\n",
      "<ipython-input-28-8efff43a2eed>:17: SettingWithCopyWarning: \n",
      "A value is trying to be set on a copy of a slice from a DataFrame\n",
      "\n",
      "See the caveats in the documentation: https://pandas.pydata.org/pandas-docs/stable/user_guide/indexing.html#returning-a-view-versus-a-copy\n",
      "  df['Heading'][i] += 180\n",
      "<ipython-input-28-8efff43a2eed>:13: SettingWithCopyWarning: \n",
      "A value is trying to be set on a copy of a slice from a DataFrame\n",
      "\n",
      "See the caveats in the documentation: https://pandas.pydata.org/pandas-docs/stable/user_guide/indexing.html#returning-a-view-versus-a-copy\n",
      "  df['Heading'][i] += 360\n"
     ]
    },
    {
     "data": {
      "application/vnd.jupyter.widget-view+json": {
       "model_id": "271a543ac4374e38b2253b58342385a7",
       "version_major": 2,
       "version_minor": 0
      },
      "text/plain": [
       "Canvas(toolbar=Toolbar(toolitems=[('Home', 'Reset original view', 'home', 'home'), ('Back', 'Back to previous …"
      ]
     },
     "metadata": {},
     "output_type": "display_data"
    },
    {
     "name": "stderr",
     "output_type": "stream",
     "text": [
      "<ipython-input-28-8efff43a2eed>:23: SettingWithCopyWarning: \n",
      "A value is trying to be set on a copy of a slice from a DataFrame\n",
      "\n",
      "See the caveats in the documentation: https://pandas.pydata.org/pandas-docs/stable/user_guide/indexing.html#returning-a-view-versus-a-copy\n",
      "  df['GroundTruth'][i] = 100\n",
      "<ipython-input-28-8efff43a2eed>:25: SettingWithCopyWarning: \n",
      "A value is trying to be set on a copy of a slice from a DataFrame\n",
      "\n",
      "See the caveats in the documentation: https://pandas.pydata.org/pandas-docs/stable/user_guide/indexing.html#returning-a-view-versus-a-copy\n",
      "  df['GroundTruth'][i] = 190\n",
      "<ipython-input-28-8efff43a2eed>:27: SettingWithCopyWarning: \n",
      "A value is trying to be set on a copy of a slice from a DataFrame\n",
      "\n",
      "See the caveats in the documentation: https://pandas.pydata.org/pandas-docs/stable/user_guide/indexing.html#returning-a-view-versus-a-copy\n",
      "  df['GroundTruth'][i] = 280\n",
      "<ipython-input-28-8efff43a2eed>:29: SettingWithCopyWarning: \n",
      "A value is trying to be set on a copy of a slice from a DataFrame\n",
      "\n",
      "See the caveats in the documentation: https://pandas.pydata.org/pandas-docs/stable/user_guide/indexing.html#returning-a-view-versus-a-copy\n",
      "  df['GroundTruth'][i] = 190\n"
     ]
    }
   ],
   "source": [
    "plot_stage_1(\"1\")\n",
    "plot_stage_1(\"2\")\n",
    "plot_stage_1(\"3\")"
   ]
  },
  {
   "cell_type": "code",
   "execution_count": null,
   "id": "ba649337",
   "metadata": {
    "scrolled": true
   },
   "outputs": [],
   "source": []
  }
 ],
 "metadata": {
  "kernelspec": {
   "display_name": "Python 3",
   "language": "python",
   "name": "python3"
  },
  "language_info": {
   "codemirror_mode": {
    "name": "ipython",
    "version": 3
   },
   "file_extension": ".py",
   "mimetype": "text/x-python",
   "name": "python",
   "nbconvert_exporter": "python",
   "pygments_lexer": "ipython3",
   "version": "3.8.8"
  }
 },
 "nbformat": 4,
 "nbformat_minor": 5
}
